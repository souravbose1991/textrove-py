{
 "metadata": {
  "language_info": {
   "codemirror_mode": {
    "name": "ipython",
    "version": 3
   },
   "file_extension": ".py",
   "mimetype": "text/x-python",
   "name": "python",
   "nbconvert_exporter": "python",
   "pygments_lexer": "ipython3",
   "version": "3.8.8"
  },
  "orig_nbformat": 2,
  "kernelspec": {
   "name": "python388jvsc74a57bd08473b8f81d8d440d7362828795264e3e4c1b17a662a6f4bd9d4a00707a1c62d8",
   "display_name": "Python 3.8.8 64-bit ('base': conda)"
  }
 },
 "nbformat": 4,
 "nbformat_minor": 2,
 "cells": [
  {
   "cell_type": "code",
   "execution_count": 1,
   "metadata": {},
   "outputs": [
    {
     "output_type": "execute_result",
     "data": {
      "text/plain": [
       "          Date Change in OPR (%) New OPR Level (%)  \\\n",
       "0  06 May 2021                 0              1.75   \n",
       "1  04 Mar 2021                 0              1.75   \n",
       "2  20 Jan 2021                 0              1.75   \n",
       "3  03 Nov 2020                 0              1.75   \n",
       "4  10 Sep 2020                 0              1.75   \n",
       "\n",
       "                           Monetary Policy Statement  Year  Quarter  \n",
       "0  At its meeting today, the Monetary Policy Comm...  2021  Q2-2021  \n",
       "1  At its meeting today, the Monetary Policy Comm...  2021  Q1-2021  \n",
       "2  At its meeting today, the Monetary Policy Comm...  2021  Q1-2021  \n",
       "3  At its meeting today, the Monetary Policy Comm...  2020  Q4-2020  \n",
       "4  At its meeting today, the Monetary Policy Comm...  2020  Q3-2020  "
      ],
      "text/html": "<div>\n<style scoped>\n    .dataframe tbody tr th:only-of-type {\n        vertical-align: middle;\n    }\n\n    .dataframe tbody tr th {\n        vertical-align: top;\n    }\n\n    .dataframe thead th {\n        text-align: right;\n    }\n</style>\n<table border=\"1\" class=\"dataframe\">\n  <thead>\n    <tr style=\"text-align: right;\">\n      <th></th>\n      <th>Date</th>\n      <th>Change in OPR (%)</th>\n      <th>New OPR Level (%)</th>\n      <th>Monetary Policy Statement</th>\n      <th>Year</th>\n      <th>Quarter</th>\n    </tr>\n  </thead>\n  <tbody>\n    <tr>\n      <th>0</th>\n      <td>06 May 2021</td>\n      <td>0</td>\n      <td>1.75</td>\n      <td>At its meeting today, the Monetary Policy Comm...</td>\n      <td>2021</td>\n      <td>Q2-2021</td>\n    </tr>\n    <tr>\n      <th>1</th>\n      <td>04 Mar 2021</td>\n      <td>0</td>\n      <td>1.75</td>\n      <td>At its meeting today, the Monetary Policy Comm...</td>\n      <td>2021</td>\n      <td>Q1-2021</td>\n    </tr>\n    <tr>\n      <th>2</th>\n      <td>20 Jan 2021</td>\n      <td>0</td>\n      <td>1.75</td>\n      <td>At its meeting today, the Monetary Policy Comm...</td>\n      <td>2021</td>\n      <td>Q1-2021</td>\n    </tr>\n    <tr>\n      <th>3</th>\n      <td>03 Nov 2020</td>\n      <td>0</td>\n      <td>1.75</td>\n      <td>At its meeting today, the Monetary Policy Comm...</td>\n      <td>2020</td>\n      <td>Q4-2020</td>\n    </tr>\n    <tr>\n      <th>4</th>\n      <td>10 Sep 2020</td>\n      <td>0</td>\n      <td>1.75</td>\n      <td>At its meeting today, the Monetary Policy Comm...</td>\n      <td>2020</td>\n      <td>Q3-2020</td>\n    </tr>\n  </tbody>\n</table>\n</div>"
     },
     "metadata": {},
     "execution_count": 1
    }
   ],
   "source": [
    "from bs4 import BeautifulSoup\n",
    "import pandas as pd\n",
    "import numpy as np\n",
    "import requests\n",
    "import datetime\n",
    "\n",
    "page1 = requests.get('https://www.bnm.gov.my/opr-decision-and-statement')\n",
    "soup = BeautifulSoup(page1.content, 'html.parser')\n",
    "opr_table = soup.find(\"table\", attrs={\"class\": \"standard-table table-bordered table-hover text-center table-striped\"})\n",
    "opr_table_data = opr_table.find_all(\"tr\")  # contains 2 rows\n",
    "\n",
    "# Get all the headings of Lists\n",
    "headings = []\n",
    "for td in opr_table_data[1].find_all(\"td\"):\n",
    "    # remove any newlines and extra spaces from left and right\n",
    "    headings.append(td.text.replace('\\n', ' ').strip())\n",
    "\n",
    "data = []\n",
    "for i in range(2, len(opr_table_data)):\n",
    "    temp_dict = {}\n",
    "    tmp = opr_table_data[i].find_all(\"td\")\n",
    "    temp_dict['Date'] = tmp[0].text.replace('\\n', '').strip()\n",
    "    temp_dict['Change in OPR (%)'] = tmp[1].text.replace('\\n', '').strip()\n",
    "    temp_dict['New OPR Level (%)'] = tmp[2].text.replace('\\n', '').strip()\n",
    "    temp_link = 'https://www.bnm.gov.my' + \\\n",
    "        tmp[3].find_all('a', href=True)[0]['href']\n",
    "    page_dyn = requests.get(temp_link)\n",
    "    soup2 = BeautifulSoup(page_dyn.content, 'html.parser')\n",
    "    raw_content = soup2.find_all(\n",
    "        \"div\", attrs={\"class\": \"article-content-cs\"})[1]\n",
    "    paragraph = raw_content.find_all('p')\n",
    "    temp_dict['Monetary Policy Statement'] = ' '.join([para.get_text(strip=True) for para in paragraph])\n",
    "    data.append(temp_dict)\n",
    "\n",
    "final_data = pd.DataFrame(data)\n",
    "\n",
    "def year_month(x):\n",
    "    date_time_obj = datetime.datetime.strptime(str(x['Date']), '%d %b %Y')\n",
    "    if date_time_obj.month < 4:\n",
    "        q = \"Q1\"\n",
    "    elif date_time_obj.month < 7:\n",
    "        q = \"Q2\"\n",
    "    elif date_time_obj.month < 10:\n",
    "        q = \"Q3\"\n",
    "    else:\n",
    "        q = \"Q4\"\n",
    "    x['Year'] = date_time_obj.year\n",
    "    x['Quarter'] = q + \"-\" + str(date_time_obj.year)\n",
    "    return x\n",
    "\n",
    "final_data2 = final_data.apply(lambda x: year_month(x), axis=1)\n",
    "final_data2.head()"
   ]
  },
  {
   "cell_type": "code",
   "execution_count": 2,
   "metadata": {},
   "outputs": [],
   "source": [
    "final_data2.to_csv('bank_negara_mps.csv', index=False)"
   ]
  },
  {
   "cell_type": "code",
   "execution_count": null,
   "metadata": {},
   "outputs": [],
   "source": []
  }
 ]
}