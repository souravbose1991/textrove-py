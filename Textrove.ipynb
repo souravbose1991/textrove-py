{
 "cells": [
  {
   "cell_type": "code",
   "execution_count": 1,
   "metadata": {},
   "outputs": [],
   "source": [
    "import pandas as pd\n",
    "import numpy as np\n",
    "\n",
    "import eda\n",
    "from eda import Documents\n",
    "\n",
    "import sentiment\n",
    "from sentiment import Sentiment"
   ]
  },
  {
   "cell_type": "code",
   "execution_count": 2,
   "metadata": {},
   "outputs": [
    {
     "output_type": "stream",
     "name": "stdout",
     "text": [
      "Columns in Data: 'review', 'sentiment'.\nData has 1000 rows & 2 columns\n"
     ]
    }
   ],
   "source": [
    "df_imdb = pd.read_csv('data/IMDB Dataset - Small.csv')\n",
    "print(\"Columns in Data: '{0}', '{1}'.\".format(df_imdb.columns[0], df_imdb.columns[1]))\n",
    "print(\"Data has {0} rows & {1} columns\".format(df_imdb.shape[0], df_imdb.shape[1]))"
   ]
  },
  {
   "cell_type": "code",
   "execution_count": 3,
   "metadata": {},
   "outputs": [],
   "source": [
    "doc_obj = Documents(data_frame=df_imdb, text_column='review')\n",
    "df_imdb_clean = doc_obj.prep_docs(return_df=True)\n",
    "# doc_obj.explore()\n",
    "# doc_obj.create_wordcloud()"
   ]
  },
  {
   "cell_type": "code",
   "execution_count": 4,
   "metadata": {},
   "outputs": [
    {
     "output_type": "display_data",
     "data": {
      "application/vnd.plotly.v1+json": {
       "config": {
        "plotlyServerURL": "https://plot.ly"
       },
       "data": [
        {
         "hole": 0.4,
         "hoverinfo": "label+percent+name",
         "labels": [
          "Positive",
          "Negative",
          "Uncertainty",
          "Litigious",
          "Constraining",
          "Superfluous"
         ],
         "type": "pie",
         "values": [
          38.4,
          50,
          4.5,
          3.2,
          1.8,
          0.2
         ]
        }
       ],
       "layout": {
        "template": {
         "data": {
          "bar": [
           {
            "error_x": {
             "color": "#2a3f5f"
            },
            "error_y": {
             "color": "#2a3f5f"
            },
            "marker": {
             "line": {
              "color": "white",
              "width": 0.5
             }
            },
            "type": "bar"
           }
          ],
          "barpolar": [
           {
            "marker": {
             "line": {
              "color": "white",
              "width": 0.5
             }
            },
            "type": "barpolar"
           }
          ],
          "carpet": [
           {
            "aaxis": {
             "endlinecolor": "#2a3f5f",
             "gridcolor": "#C8D4E3",
             "linecolor": "#C8D4E3",
             "minorgridcolor": "#C8D4E3",
             "startlinecolor": "#2a3f5f"
            },
            "baxis": {
             "endlinecolor": "#2a3f5f",
             "gridcolor": "#C8D4E3",
             "linecolor": "#C8D4E3",
             "minorgridcolor": "#C8D4E3",
             "startlinecolor": "#2a3f5f"
            },
            "type": "carpet"
           }
          ],
          "choropleth": [
           {
            "colorbar": {
             "outlinewidth": 0,
             "ticks": ""
            },
            "type": "choropleth"
           }
          ],
          "contour": [
           {
            "colorbar": {
             "outlinewidth": 0,
             "ticks": ""
            },
            "colorscale": [
             [
              0,
              "#0d0887"
             ],
             [
              0.1111111111111111,
              "#46039f"
             ],
             [
              0.2222222222222222,
              "#7201a8"
             ],
             [
              0.3333333333333333,
              "#9c179e"
             ],
             [
              0.4444444444444444,
              "#bd3786"
             ],
             [
              0.5555555555555556,
              "#d8576b"
             ],
             [
              0.6666666666666666,
              "#ed7953"
             ],
             [
              0.7777777777777778,
              "#fb9f3a"
             ],
             [
              0.8888888888888888,
              "#fdca26"
             ],
             [
              1,
              "#f0f921"
             ]
            ],
            "type": "contour"
           }
          ],
          "contourcarpet": [
           {
            "colorbar": {
             "outlinewidth": 0,
             "ticks": ""
            },
            "type": "contourcarpet"
           }
          ],
          "heatmap": [
           {
            "colorbar": {
             "outlinewidth": 0,
             "ticks": ""
            },
            "colorscale": [
             [
              0,
              "#0d0887"
             ],
             [
              0.1111111111111111,
              "#46039f"
             ],
             [
              0.2222222222222222,
              "#7201a8"
             ],
             [
              0.3333333333333333,
              "#9c179e"
             ],
             [
              0.4444444444444444,
              "#bd3786"
             ],
             [
              0.5555555555555556,
              "#d8576b"
             ],
             [
              0.6666666666666666,
              "#ed7953"
             ],
             [
              0.7777777777777778,
              "#fb9f3a"
             ],
             [
              0.8888888888888888,
              "#fdca26"
             ],
             [
              1,
              "#f0f921"
             ]
            ],
            "type": "heatmap"
           }
          ],
          "heatmapgl": [
           {
            "colorbar": {
             "outlinewidth": 0,
             "ticks": ""
            },
            "colorscale": [
             [
              0,
              "#0d0887"
             ],
             [
              0.1111111111111111,
              "#46039f"
             ],
             [
              0.2222222222222222,
              "#7201a8"
             ],
             [
              0.3333333333333333,
              "#9c179e"
             ],
             [
              0.4444444444444444,
              "#bd3786"
             ],
             [
              0.5555555555555556,
              "#d8576b"
             ],
             [
              0.6666666666666666,
              "#ed7953"
             ],
             [
              0.7777777777777778,
              "#fb9f3a"
             ],
             [
              0.8888888888888888,
              "#fdca26"
             ],
             [
              1,
              "#f0f921"
             ]
            ],
            "type": "heatmapgl"
           }
          ],
          "histogram": [
           {
            "marker": {
             "colorbar": {
              "outlinewidth": 0,
              "ticks": ""
             }
            },
            "type": "histogram"
           }
          ],
          "histogram2d": [
           {
            "colorbar": {
             "outlinewidth": 0,
             "ticks": ""
            },
            "colorscale": [
             [
              0,
              "#0d0887"
             ],
             [
              0.1111111111111111,
              "#46039f"
             ],
             [
              0.2222222222222222,
              "#7201a8"
             ],
             [
              0.3333333333333333,
              "#9c179e"
             ],
             [
              0.4444444444444444,
              "#bd3786"
             ],
             [
              0.5555555555555556,
              "#d8576b"
             ],
             [
              0.6666666666666666,
              "#ed7953"
             ],
             [
              0.7777777777777778,
              "#fb9f3a"
             ],
             [
              0.8888888888888888,
              "#fdca26"
             ],
             [
              1,
              "#f0f921"
             ]
            ],
            "type": "histogram2d"
           }
          ],
          "histogram2dcontour": [
           {
            "colorbar": {
             "outlinewidth": 0,
             "ticks": ""
            },
            "colorscale": [
             [
              0,
              "#0d0887"
             ],
             [
              0.1111111111111111,
              "#46039f"
             ],
             [
              0.2222222222222222,
              "#7201a8"
             ],
             [
              0.3333333333333333,
              "#9c179e"
             ],
             [
              0.4444444444444444,
              "#bd3786"
             ],
             [
              0.5555555555555556,
              "#d8576b"
             ],
             [
              0.6666666666666666,
              "#ed7953"
             ],
             [
              0.7777777777777778,
              "#fb9f3a"
             ],
             [
              0.8888888888888888,
              "#fdca26"
             ],
             [
              1,
              "#f0f921"
             ]
            ],
            "type": "histogram2dcontour"
           }
          ],
          "mesh3d": [
           {
            "colorbar": {
             "outlinewidth": 0,
             "ticks": ""
            },
            "type": "mesh3d"
           }
          ],
          "parcoords": [
           {
            "line": {
             "colorbar": {
              "outlinewidth": 0,
              "ticks": ""
             }
            },
            "type": "parcoords"
           }
          ],
          "pie": [
           {
            "automargin": true,
            "type": "pie"
           }
          ],
          "scatter": [
           {
            "marker": {
             "colorbar": {
              "outlinewidth": 0,
              "ticks": ""
             }
            },
            "type": "scatter"
           }
          ],
          "scatter3d": [
           {
            "line": {
             "colorbar": {
              "outlinewidth": 0,
              "ticks": ""
             }
            },
            "marker": {
             "colorbar": {
              "outlinewidth": 0,
              "ticks": ""
             }
            },
            "type": "scatter3d"
           }
          ],
          "scattercarpet": [
           {
            "marker": {
             "colorbar": {
              "outlinewidth": 0,
              "ticks": ""
             }
            },
            "type": "scattercarpet"
           }
          ],
          "scattergeo": [
           {
            "marker": {
             "colorbar": {
              "outlinewidth": 0,
              "ticks": ""
             }
            },
            "type": "scattergeo"
           }
          ],
          "scattergl": [
           {
            "marker": {
             "colorbar": {
              "outlinewidth": 0,
              "ticks": ""
             }
            },
            "type": "scattergl"
           }
          ],
          "scattermapbox": [
           {
            "marker": {
             "colorbar": {
              "outlinewidth": 0,
              "ticks": ""
             }
            },
            "type": "scattermapbox"
           }
          ],
          "scatterpolar": [
           {
            "marker": {
             "colorbar": {
              "outlinewidth": 0,
              "ticks": ""
             }
            },
            "type": "scatterpolar"
           }
          ],
          "scatterpolargl": [
           {
            "marker": {
             "colorbar": {
              "outlinewidth": 0,
              "ticks": ""
             }
            },
            "type": "scatterpolargl"
           }
          ],
          "scatterternary": [
           {
            "marker": {
             "colorbar": {
              "outlinewidth": 0,
              "ticks": ""
             }
            },
            "type": "scatterternary"
           }
          ],
          "surface": [
           {
            "colorbar": {
             "outlinewidth": 0,
             "ticks": ""
            },
            "colorscale": [
             [
              0,
              "#0d0887"
             ],
             [
              0.1111111111111111,
              "#46039f"
             ],
             [
              0.2222222222222222,
              "#7201a8"
             ],
             [
              0.3333333333333333,
              "#9c179e"
             ],
             [
              0.4444444444444444,
              "#bd3786"
             ],
             [
              0.5555555555555556,
              "#d8576b"
             ],
             [
              0.6666666666666666,
              "#ed7953"
             ],
             [
              0.7777777777777778,
              "#fb9f3a"
             ],
             [
              0.8888888888888888,
              "#fdca26"
             ],
             [
              1,
              "#f0f921"
             ]
            ],
            "type": "surface"
           }
          ],
          "table": [
           {
            "cells": {
             "fill": {
              "color": "#EBF0F8"
             },
             "line": {
              "color": "white"
             }
            },
            "header": {
             "fill": {
              "color": "#C8D4E3"
             },
             "line": {
              "color": "white"
             }
            },
            "type": "table"
           }
          ]
         },
         "layout": {
          "annotationdefaults": {
           "arrowcolor": "#2a3f5f",
           "arrowhead": 0,
           "arrowwidth": 1
          },
          "autotypenumbers": "strict",
          "coloraxis": {
           "colorbar": {
            "outlinewidth": 0,
            "ticks": ""
           }
          },
          "colorscale": {
           "diverging": [
            [
             0,
             "#8e0152"
            ],
            [
             0.1,
             "#c51b7d"
            ],
            [
             0.2,
             "#de77ae"
            ],
            [
             0.3,
             "#f1b6da"
            ],
            [
             0.4,
             "#fde0ef"
            ],
            [
             0.5,
             "#f7f7f7"
            ],
            [
             0.6,
             "#e6f5d0"
            ],
            [
             0.7,
             "#b8e186"
            ],
            [
             0.8,
             "#7fbc41"
            ],
            [
             0.9,
             "#4d9221"
            ],
            [
             1,
             "#276419"
            ]
           ],
           "sequential": [
            [
             0,
             "#0d0887"
            ],
            [
             0.1111111111111111,
             "#46039f"
            ],
            [
             0.2222222222222222,
             "#7201a8"
            ],
            [
             0.3333333333333333,
             "#9c179e"
            ],
            [
             0.4444444444444444,
             "#bd3786"
            ],
            [
             0.5555555555555556,
             "#d8576b"
            ],
            [
             0.6666666666666666,
             "#ed7953"
            ],
            [
             0.7777777777777778,
             "#fb9f3a"
            ],
            [
             0.8888888888888888,
             "#fdca26"
            ],
            [
             1,
             "#f0f921"
            ]
           ],
           "sequentialminus": [
            [
             0,
             "#0d0887"
            ],
            [
             0.1111111111111111,
             "#46039f"
            ],
            [
             0.2222222222222222,
             "#7201a8"
            ],
            [
             0.3333333333333333,
             "#9c179e"
            ],
            [
             0.4444444444444444,
             "#bd3786"
            ],
            [
             0.5555555555555556,
             "#d8576b"
            ],
            [
             0.6666666666666666,
             "#ed7953"
            ],
            [
             0.7777777777777778,
             "#fb9f3a"
            ],
            [
             0.8888888888888888,
             "#fdca26"
            ],
            [
             1,
             "#f0f921"
            ]
           ]
          },
          "colorway": [
           "#636efa",
           "#EF553B",
           "#00cc96",
           "#ab63fa",
           "#FFA15A",
           "#19d3f3",
           "#FF6692",
           "#B6E880",
           "#FF97FF",
           "#FECB52"
          ],
          "font": {
           "color": "#2a3f5f"
          },
          "geo": {
           "bgcolor": "white",
           "lakecolor": "white",
           "landcolor": "white",
           "showlakes": true,
           "showland": true,
           "subunitcolor": "#C8D4E3"
          },
          "hoverlabel": {
           "align": "left"
          },
          "hovermode": "closest",
          "mapbox": {
           "style": "light"
          },
          "paper_bgcolor": "white",
          "plot_bgcolor": "white",
          "polar": {
           "angularaxis": {
            "gridcolor": "#EBF0F8",
            "linecolor": "#EBF0F8",
            "ticks": ""
           },
           "bgcolor": "white",
           "radialaxis": {
            "gridcolor": "#EBF0F8",
            "linecolor": "#EBF0F8",
            "ticks": ""
           }
          },
          "scene": {
           "xaxis": {
            "backgroundcolor": "white",
            "gridcolor": "#DFE8F3",
            "gridwidth": 2,
            "linecolor": "#EBF0F8",
            "showbackground": true,
            "ticks": "",
            "zerolinecolor": "#EBF0F8"
           },
           "yaxis": {
            "backgroundcolor": "white",
            "gridcolor": "#DFE8F3",
            "gridwidth": 2,
            "linecolor": "#EBF0F8",
            "showbackground": true,
            "ticks": "",
            "zerolinecolor": "#EBF0F8"
           },
           "zaxis": {
            "backgroundcolor": "white",
            "gridcolor": "#DFE8F3",
            "gridwidth": 2,
            "linecolor": "#EBF0F8",
            "showbackground": true,
            "ticks": "",
            "zerolinecolor": "#EBF0F8"
           }
          },
          "shapedefaults": {
           "line": {
            "color": "#2a3f5f"
           }
          },
          "ternary": {
           "aaxis": {
            "gridcolor": "#DFE8F3",
            "linecolor": "#A2B1C6",
            "ticks": ""
           },
           "baxis": {
            "gridcolor": "#DFE8F3",
            "linecolor": "#A2B1C6",
            "ticks": ""
           },
           "bgcolor": "white",
           "caxis": {
            "gridcolor": "#DFE8F3",
            "linecolor": "#A2B1C6",
            "ticks": ""
           }
          },
          "title": {
           "x": 0.05
          },
          "xaxis": {
           "automargin": true,
           "gridcolor": "#EBF0F8",
           "linecolor": "#EBF0F8",
           "ticks": "",
           "title": {
            "standoff": 15
           },
           "zerolinecolor": "#EBF0F8",
           "zerolinewidth": 2
          },
          "yaxis": {
           "automargin": true,
           "gridcolor": "#EBF0F8",
           "linecolor": "#EBF0F8",
           "ticks": "",
           "title": {
            "standoff": 15
           },
           "zerolinecolor": "#EBF0F8",
           "zerolinewidth": 2
          }
         }
        },
        "title": {
         "text": "<b>Overall Sentiment Score: -0.13</b>"
        }
       }
      }
     },
     "metadata": {}
    }
   ],
   "source": [
    "sent_obj = Sentiment(documents_object=doc_obj, method='lexical', lexicon='loughran')\n",
    "sent_obj.plot_sentiment()"
   ]
  },
  {
   "cell_type": "code",
   "execution_count": 5,
   "metadata": {},
   "outputs": [
    {
     "output_type": "error",
     "ename": "NameError",
     "evalue": "name 'CountVectorizer' is not defined",
     "traceback": [
      "\u001b[1;31m---------------------------------------------------------------------------\u001b[0m",
      "\u001b[1;31mNameError\u001b[0m                                 Traceback (most recent call last)",
      "\u001b[1;32m<ipython-input-5-a38e80d3b191>\u001b[0m in \u001b[0;36m<module>\u001b[1;34m\u001b[0m\n\u001b[1;32m----> 1\u001b[1;33m \u001b[0msent_obj\u001b[0m\u001b[1;33m.\u001b[0m\u001b[0mplot_word_sentiment\u001b[0m\u001b[1;33m(\u001b[0m\u001b[1;33m)\u001b[0m\u001b[1;33m\u001b[0m\u001b[1;33m\u001b[0m\u001b[0m\n\u001b[0m",
      "\u001b[1;32mc:\\Users\\soura\\Desktop\\DS Projects\\Textrove-py\\sentiment.py\u001b[0m in \u001b[0;36mplot_word_sentiment\u001b[1;34m(self, new_df, X_variable)\u001b[0m\n\u001b[0;32m    228\u001b[0m             \u001b[1;32melse\u001b[0m\u001b[1;33m:\u001b[0m\u001b[1;33m\u001b[0m\u001b[1;33m\u001b[0m\u001b[0m\n\u001b[0;32m    229\u001b[0m                 \u001b[1;32mraise\u001b[0m \u001b[0mValueError\u001b[0m\u001b[1;33m(\u001b[0m\u001b[1;34m\"Provide a DataFrame with \"\u001b[0m \u001b[1;33m+\u001b[0m \u001b[0mcleaned_text\u001b[0m \u001b[1;33m+\u001b[0m \u001b[1;34m\" column in it.\"\u001b[0m\u001b[1;33m)\u001b[0m\u001b[1;33m\u001b[0m\u001b[1;33m\u001b[0m\u001b[0m\n\u001b[1;32m--> 230\u001b[1;33m         tdf_list, cat_list = self.__get_word_sentiment(temp_df=temp_df, min_freq=0.05, X_variable=X_variable, \n\u001b[0m\u001b[0;32m    231\u001b[0m                                                         lexi_dict=self.lexi_dict)\n\u001b[0;32m    232\u001b[0m         \u001b[1;32mfor\u001b[0m \u001b[0mi\u001b[0m \u001b[1;32min\u001b[0m \u001b[0mrange\u001b[0m\u001b[1;33m(\u001b[0m\u001b[1;36m0\u001b[0m\u001b[1;33m,\u001b[0m \u001b[0mlen\u001b[0m\u001b[1;33m(\u001b[0m\u001b[0mtdf_list\u001b[0m\u001b[1;33m)\u001b[0m\u001b[1;33m)\u001b[0m\u001b[1;33m:\u001b[0m\u001b[1;33m\u001b[0m\u001b[1;33m\u001b[0m\u001b[0m\n",
      "\u001b[1;32mc:\\Users\\soura\\Desktop\\DS Projects\\Textrove-py\\sentiment.py\u001b[0m in \u001b[0;36m__get_word_sentiment\u001b[1;34m(self, temp_df, min_freq, X_variable, lexi_dict)\u001b[0m\n\u001b[0;32m    198\u001b[0m         \u001b[0mcat_list\u001b[0m \u001b[1;33m=\u001b[0m \u001b[1;33m[\u001b[0m\u001b[1;33m]\u001b[0m\u001b[1;33m\u001b[0m\u001b[1;33m\u001b[0m\u001b[0m\n\u001b[0;32m    199\u001b[0m         \u001b[1;32mif\u001b[0m \u001b[0mX_variable\u001b[0m \u001b[1;32mis\u001b[0m \u001b[1;32mNone\u001b[0m\u001b[1;33m:\u001b[0m\u001b[1;33m\u001b[0m\u001b[1;33m\u001b[0m\u001b[0m\n\u001b[1;32m--> 200\u001b[1;33m             \u001b[0mtdf\u001b[0m \u001b[1;33m=\u001b[0m \u001b[0mself\u001b[0m\u001b[1;33m.\u001b[0m\u001b[0m__generate_word_sentiment\u001b[0m\u001b[1;33m(\u001b[0m\u001b[0mtemp_df\u001b[0m\u001b[1;33m=\u001b[0m\u001b[0mtemp_df\u001b[0m\u001b[1;33m,\u001b[0m \u001b[0mmin_freq\u001b[0m\u001b[1;33m=\u001b[0m\u001b[0mmin_freq\u001b[0m\u001b[1;33m,\u001b[0m \u001b[0mlexi_dict\u001b[0m\u001b[1;33m=\u001b[0m\u001b[0mlexi_dict\u001b[0m\u001b[1;33m)\u001b[0m\u001b[1;33m\u001b[0m\u001b[1;33m\u001b[0m\u001b[0m\n\u001b[0m\u001b[0;32m    201\u001b[0m             \u001b[0mtdf_list\u001b[0m\u001b[1;33m.\u001b[0m\u001b[0mappend\u001b[0m\u001b[1;33m(\u001b[0m\u001b[0mtdf\u001b[0m\u001b[1;33m)\u001b[0m\u001b[1;33m\u001b[0m\u001b[1;33m\u001b[0m\u001b[0m\n\u001b[0;32m    202\u001b[0m         \u001b[1;32melse\u001b[0m\u001b[1;33m:\u001b[0m\u001b[1;33m\u001b[0m\u001b[1;33m\u001b[0m\u001b[0m\n",
      "\u001b[1;32mc:\\Users\\soura\\Desktop\\DS Projects\\Textrove-py\\sentiment.py\u001b[0m in \u001b[0;36m__generate_word_sentiment\u001b[1;34m(self, temp_df, min_freq, lexi_dict)\u001b[0m\n\u001b[0;32m    173\u001b[0m         \u001b[0mwordsets\u001b[0m \u001b[1;33m=\u001b[0m \u001b[1;33m[\u001b[0m\u001b[0mfrozenset\u001b[0m\u001b[1;33m(\u001b[0m\u001b[0mdocument\u001b[0m\u001b[1;33m.\u001b[0m\u001b[0msplit\u001b[0m\u001b[1;33m(\u001b[0m\u001b[1;34m\" \"\u001b[0m\u001b[1;33m)\u001b[0m\u001b[1;33m)\u001b[0m \u001b[1;32mfor\u001b[0m \u001b[0mdocument\u001b[0m \u001b[1;32min\u001b[0m \u001b[0mtemp_df\u001b[0m\u001b[1;33m[\u001b[0m\u001b[0mcleaned_text\u001b[0m\u001b[1;33m]\u001b[0m\u001b[1;33m]\u001b[0m\u001b[1;33m\u001b[0m\u001b[1;33m\u001b[0m\u001b[0m\n\u001b[0;32m    174\u001b[0m \u001b[1;33m\u001b[0m\u001b[0m\n\u001b[1;32m--> 175\u001b[1;33m         \u001b[0mvec\u001b[0m \u001b[1;33m=\u001b[0m \u001b[0mCountVectorizer\u001b[0m\u001b[1;33m(\u001b[0m\u001b[0mngram_range\u001b[0m\u001b[1;33m=\u001b[0m\u001b[1;33m(\u001b[0m\u001b[1;36m1\u001b[0m\u001b[1;33m,\u001b[0m \u001b[1;36m1\u001b[0m\u001b[1;33m)\u001b[0m\u001b[1;33m)\u001b[0m\u001b[1;33m.\u001b[0m\u001b[0mfit\u001b[0m\u001b[1;33m(\u001b[0m\u001b[0mtemp_df\u001b[0m\u001b[1;33m[\u001b[0m\u001b[0mcleaned_text\u001b[0m\u001b[1;33m]\u001b[0m\u001b[1;33m)\u001b[0m\u001b[1;33m\u001b[0m\u001b[1;33m\u001b[0m\u001b[0m\n\u001b[0m\u001b[0;32m    176\u001b[0m         \u001b[0mbag_of_words\u001b[0m \u001b[1;33m=\u001b[0m \u001b[0mvec\u001b[0m\u001b[1;33m.\u001b[0m\u001b[0mtransform\u001b[0m\u001b[1;33m(\u001b[0m\u001b[0mtemp_df\u001b[0m\u001b[1;33m[\u001b[0m\u001b[0mcleaned_text\u001b[0m\u001b[1;33m]\u001b[0m\u001b[1;33m)\u001b[0m\u001b[1;33m\u001b[0m\u001b[1;33m\u001b[0m\u001b[0m\n\u001b[0;32m    177\u001b[0m         \u001b[0msum_words\u001b[0m \u001b[1;33m=\u001b[0m \u001b[0mbag_of_words\u001b[0m\u001b[1;33m.\u001b[0m\u001b[0msum\u001b[0m\u001b[1;33m(\u001b[0m\u001b[0maxis\u001b[0m\u001b[1;33m=\u001b[0m\u001b[1;36m0\u001b[0m\u001b[1;33m)\u001b[0m\u001b[1;33m\u001b[0m\u001b[1;33m\u001b[0m\u001b[0m\n",
      "\u001b[1;31mNameError\u001b[0m: name 'CountVectorizer' is not defined"
     ]
    }
   ],
   "source": [
    "sent_obj.plot_word_sentiment()"
   ]
  },
  {
   "cell_type": "code",
   "execution_count": null,
   "metadata": {},
   "outputs": [],
   "source": []
  },
  {
   "cell_type": "code",
   "execution_count": null,
   "metadata": {},
   "outputs": [],
   "source": []
  },
  {
   "cell_type": "code",
   "execution_count": null,
   "metadata": {},
   "outputs": [],
   "source": []
  },
  {
   "cell_type": "code",
   "execution_count": null,
   "metadata": {},
   "outputs": [],
   "source": []
  },
  {
   "cell_type": "code",
   "execution_count": null,
   "metadata": {},
   "outputs": [],
   "source": []
  },
  {
   "cell_type": "code",
   "execution_count": null,
   "metadata": {},
   "outputs": [],
   "source": []
  },
  {
   "cell_type": "code",
   "execution_count": 11,
   "metadata": {},
   "outputs": [],
   "source": [
    "from ploty_template import custom_template, plot_title\n",
    "import plotly.graph_objects as go\n",
    "import plotly.express as px"
   ]
  },
  {
   "cell_type": "code",
   "execution_count": 28,
   "metadata": {},
   "outputs": [
    {
     "output_type": "display_data",
     "data": {
      "application/vnd.plotly.v1+json": {
       "config": {
        "plotlyServerURL": "https://plot.ly"
       },
       "data": [
        {
         "type": "bar",
         "x": [
          "A",
          "B",
          "C"
         ],
         "y": [
          1,
          2,
          3
         ]
        }
       ],
       "layout": {
        "template": {
         "data": {
          "bar": [
           {
            "error_x": {
             "color": "#2a3f5f"
            },
            "error_y": {
             "color": "#2a3f5f"
            },
            "marker": {
             "line": {
              "color": "white",
              "width": 0.5
             }
            },
            "type": "bar"
           }
          ],
          "barpolar": [
           {
            "marker": {
             "line": {
              "color": "white",
              "width": 0.5
             }
            },
            "type": "barpolar"
           }
          ],
          "carpet": [
           {
            "aaxis": {
             "endlinecolor": "#2a3f5f",
             "gridcolor": "#C8D4E3",
             "linecolor": "#C8D4E3",
             "minorgridcolor": "#C8D4E3",
             "startlinecolor": "#2a3f5f"
            },
            "baxis": {
             "endlinecolor": "#2a3f5f",
             "gridcolor": "#C8D4E3",
             "linecolor": "#C8D4E3",
             "minorgridcolor": "#C8D4E3",
             "startlinecolor": "#2a3f5f"
            },
            "type": "carpet"
           }
          ],
          "choropleth": [
           {
            "colorbar": {
             "outlinewidth": 0,
             "ticks": ""
            },
            "type": "choropleth"
           }
          ],
          "contour": [
           {
            "colorbar": {
             "outlinewidth": 0,
             "ticks": ""
            },
            "colorscale": [
             [
              0,
              "#0d0887"
             ],
             [
              0.1111111111111111,
              "#46039f"
             ],
             [
              0.2222222222222222,
              "#7201a8"
             ],
             [
              0.3333333333333333,
              "#9c179e"
             ],
             [
              0.4444444444444444,
              "#bd3786"
             ],
             [
              0.5555555555555556,
              "#d8576b"
             ],
             [
              0.6666666666666666,
              "#ed7953"
             ],
             [
              0.7777777777777778,
              "#fb9f3a"
             ],
             [
              0.8888888888888888,
              "#fdca26"
             ],
             [
              1,
              "#f0f921"
             ]
            ],
            "type": "contour"
           }
          ],
          "contourcarpet": [
           {
            "colorbar": {
             "outlinewidth": 0,
             "ticks": ""
            },
            "type": "contourcarpet"
           }
          ],
          "heatmap": [
           {
            "colorbar": {
             "outlinewidth": 0,
             "ticks": ""
            },
            "colorscale": [
             [
              0,
              "#0d0887"
             ],
             [
              0.1111111111111111,
              "#46039f"
             ],
             [
              0.2222222222222222,
              "#7201a8"
             ],
             [
              0.3333333333333333,
              "#9c179e"
             ],
             [
              0.4444444444444444,
              "#bd3786"
             ],
             [
              0.5555555555555556,
              "#d8576b"
             ],
             [
              0.6666666666666666,
              "#ed7953"
             ],
             [
              0.7777777777777778,
              "#fb9f3a"
             ],
             [
              0.8888888888888888,
              "#fdca26"
             ],
             [
              1,
              "#f0f921"
             ]
            ],
            "type": "heatmap"
           }
          ],
          "heatmapgl": [
           {
            "colorbar": {
             "outlinewidth": 0,
             "ticks": ""
            },
            "colorscale": [
             [
              0,
              "#0d0887"
             ],
             [
              0.1111111111111111,
              "#46039f"
             ],
             [
              0.2222222222222222,
              "#7201a8"
             ],
             [
              0.3333333333333333,
              "#9c179e"
             ],
             [
              0.4444444444444444,
              "#bd3786"
             ],
             [
              0.5555555555555556,
              "#d8576b"
             ],
             [
              0.6666666666666666,
              "#ed7953"
             ],
             [
              0.7777777777777778,
              "#fb9f3a"
             ],
             [
              0.8888888888888888,
              "#fdca26"
             ],
             [
              1,
              "#f0f921"
             ]
            ],
            "type": "heatmapgl"
           }
          ],
          "histogram": [
           {
            "marker": {
             "colorbar": {
              "outlinewidth": 0,
              "ticks": ""
             }
            },
            "type": "histogram"
           }
          ],
          "histogram2d": [
           {
            "colorbar": {
             "outlinewidth": 0,
             "ticks": ""
            },
            "colorscale": [
             [
              0,
              "#0d0887"
             ],
             [
              0.1111111111111111,
              "#46039f"
             ],
             [
              0.2222222222222222,
              "#7201a8"
             ],
             [
              0.3333333333333333,
              "#9c179e"
             ],
             [
              0.4444444444444444,
              "#bd3786"
             ],
             [
              0.5555555555555556,
              "#d8576b"
             ],
             [
              0.6666666666666666,
              "#ed7953"
             ],
             [
              0.7777777777777778,
              "#fb9f3a"
             ],
             [
              0.8888888888888888,
              "#fdca26"
             ],
             [
              1,
              "#f0f921"
             ]
            ],
            "type": "histogram2d"
           }
          ],
          "histogram2dcontour": [
           {
            "colorbar": {
             "outlinewidth": 0,
             "ticks": ""
            },
            "colorscale": [
             [
              0,
              "#0d0887"
             ],
             [
              0.1111111111111111,
              "#46039f"
             ],
             [
              0.2222222222222222,
              "#7201a8"
             ],
             [
              0.3333333333333333,
              "#9c179e"
             ],
             [
              0.4444444444444444,
              "#bd3786"
             ],
             [
              0.5555555555555556,
              "#d8576b"
             ],
             [
              0.6666666666666666,
              "#ed7953"
             ],
             [
              0.7777777777777778,
              "#fb9f3a"
             ],
             [
              0.8888888888888888,
              "#fdca26"
             ],
             [
              1,
              "#f0f921"
             ]
            ],
            "type": "histogram2dcontour"
           }
          ],
          "mesh3d": [
           {
            "colorbar": {
             "outlinewidth": 0,
             "ticks": ""
            },
            "type": "mesh3d"
           }
          ],
          "parcoords": [
           {
            "line": {
             "colorbar": {
              "outlinewidth": 0,
              "ticks": ""
             }
            },
            "type": "parcoords"
           }
          ],
          "pie": [
           {
            "automargin": true,
            "type": "pie"
           }
          ],
          "scatter": [
           {
            "marker": {
             "colorbar": {
              "outlinewidth": 0,
              "ticks": ""
             }
            },
            "type": "scatter"
           }
          ],
          "scatter3d": [
           {
            "line": {
             "colorbar": {
              "outlinewidth": 0,
              "ticks": ""
             }
            },
            "marker": {
             "colorbar": {
              "outlinewidth": 0,
              "ticks": ""
             }
            },
            "type": "scatter3d"
           }
          ],
          "scattercarpet": [
           {
            "marker": {
             "colorbar": {
              "outlinewidth": 0,
              "ticks": ""
             }
            },
            "type": "scattercarpet"
           }
          ],
          "scattergeo": [
           {
            "marker": {
             "colorbar": {
              "outlinewidth": 0,
              "ticks": ""
             }
            },
            "type": "scattergeo"
           }
          ],
          "scattergl": [
           {
            "marker": {
             "colorbar": {
              "outlinewidth": 0,
              "ticks": ""
             }
            },
            "type": "scattergl"
           }
          ],
          "scattermapbox": [
           {
            "marker": {
             "colorbar": {
              "outlinewidth": 0,
              "ticks": ""
             }
            },
            "type": "scattermapbox"
           }
          ],
          "scatterpolar": [
           {
            "marker": {
             "colorbar": {
              "outlinewidth": 0,
              "ticks": ""
             }
            },
            "type": "scatterpolar"
           }
          ],
          "scatterpolargl": [
           {
            "marker": {
             "colorbar": {
              "outlinewidth": 0,
              "ticks": ""
             }
            },
            "type": "scatterpolargl"
           }
          ],
          "scatterternary": [
           {
            "marker": {
             "colorbar": {
              "outlinewidth": 0,
              "ticks": ""
             }
            },
            "type": "scatterternary"
           }
          ],
          "surface": [
           {
            "colorbar": {
             "outlinewidth": 0,
             "ticks": ""
            },
            "colorscale": [
             [
              0,
              "#0d0887"
             ],
             [
              0.1111111111111111,
              "#46039f"
             ],
             [
              0.2222222222222222,
              "#7201a8"
             ],
             [
              0.3333333333333333,
              "#9c179e"
             ],
             [
              0.4444444444444444,
              "#bd3786"
             ],
             [
              0.5555555555555556,
              "#d8576b"
             ],
             [
              0.6666666666666666,
              "#ed7953"
             ],
             [
              0.7777777777777778,
              "#fb9f3a"
             ],
             [
              0.8888888888888888,
              "#fdca26"
             ],
             [
              1,
              "#f0f921"
             ]
            ],
            "type": "surface"
           }
          ],
          "table": [
           {
            "cells": {
             "fill": {
              "color": "#EBF0F8"
             },
             "line": {
              "color": "white"
             }
            },
            "header": {
             "fill": {
              "color": "#C8D4E3"
             },
             "line": {
              "color": "white"
             }
            },
            "type": "table"
           }
          ]
         },
         "layout": {
          "annotationdefaults": {
           "arrowcolor": "#2a3f5f",
           "arrowhead": 0,
           "arrowwidth": 1
          },
          "autotypenumbers": "strict",
          "coloraxis": {
           "colorbar": {
            "outlinewidth": 0,
            "ticks": ""
           }
          },
          "colorscale": {
           "diverging": [
            [
             0,
             "#8e0152"
            ],
            [
             0.1,
             "#c51b7d"
            ],
            [
             0.2,
             "#de77ae"
            ],
            [
             0.3,
             "#f1b6da"
            ],
            [
             0.4,
             "#fde0ef"
            ],
            [
             0.5,
             "#f7f7f7"
            ],
            [
             0.6,
             "#e6f5d0"
            ],
            [
             0.7,
             "#b8e186"
            ],
            [
             0.8,
             "#7fbc41"
            ],
            [
             0.9,
             "#4d9221"
            ],
            [
             1,
             "#276419"
            ]
           ],
           "sequential": [
            [
             0,
             "#0d0887"
            ],
            [
             0.1111111111111111,
             "#46039f"
            ],
            [
             0.2222222222222222,
             "#7201a8"
            ],
            [
             0.3333333333333333,
             "#9c179e"
            ],
            [
             0.4444444444444444,
             "#bd3786"
            ],
            [
             0.5555555555555556,
             "#d8576b"
            ],
            [
             0.6666666666666666,
             "#ed7953"
            ],
            [
             0.7777777777777778,
             "#fb9f3a"
            ],
            [
             0.8888888888888888,
             "#fdca26"
            ],
            [
             1,
             "#f0f921"
            ]
           ],
           "sequentialminus": [
            [
             0,
             "#0d0887"
            ],
            [
             0.1111111111111111,
             "#46039f"
            ],
            [
             0.2222222222222222,
             "#7201a8"
            ],
            [
             0.3333333333333333,
             "#9c179e"
            ],
            [
             0.4444444444444444,
             "#bd3786"
            ],
            [
             0.5555555555555556,
             "#d8576b"
            ],
            [
             0.6666666666666666,
             "#ed7953"
            ],
            [
             0.7777777777777778,
             "#fb9f3a"
            ],
            [
             0.8888888888888888,
             "#fdca26"
            ],
            [
             1,
             "#f0f921"
            ]
           ]
          },
          "colorway": [
           "#636efa",
           "#EF553B",
           "#00cc96",
           "#ab63fa",
           "#FFA15A",
           "#19d3f3",
           "#FF6692",
           "#B6E880",
           "#FF97FF",
           "#FECB52"
          ],
          "font": {
           "color": "#2a3f5f"
          },
          "geo": {
           "bgcolor": "white",
           "lakecolor": "white",
           "landcolor": "white",
           "showlakes": true,
           "showland": true,
           "subunitcolor": "#C8D4E3"
          },
          "hoverlabel": {
           "align": "left"
          },
          "hovermode": "closest",
          "mapbox": {
           "style": "light"
          },
          "paper_bgcolor": "white",
          "plot_bgcolor": "white",
          "polar": {
           "angularaxis": {
            "gridcolor": "#EBF0F8",
            "linecolor": "#EBF0F8",
            "ticks": ""
           },
           "bgcolor": "white",
           "radialaxis": {
            "gridcolor": "#EBF0F8",
            "linecolor": "#EBF0F8",
            "ticks": ""
           }
          },
          "scene": {
           "xaxis": {
            "backgroundcolor": "white",
            "gridcolor": "#DFE8F3",
            "gridwidth": 2,
            "linecolor": "#EBF0F8",
            "showbackground": true,
            "ticks": "",
            "zerolinecolor": "#EBF0F8"
           },
           "yaxis": {
            "backgroundcolor": "white",
            "gridcolor": "#DFE8F3",
            "gridwidth": 2,
            "linecolor": "#EBF0F8",
            "showbackground": true,
            "ticks": "",
            "zerolinecolor": "#EBF0F8"
           },
           "zaxis": {
            "backgroundcolor": "white",
            "gridcolor": "#DFE8F3",
            "gridwidth": 2,
            "linecolor": "#EBF0F8",
            "showbackground": true,
            "ticks": "",
            "zerolinecolor": "#EBF0F8"
           }
          },
          "shapedefaults": {
           "line": {
            "color": "#2a3f5f"
           }
          },
          "ternary": {
           "aaxis": {
            "gridcolor": "#DFE8F3",
            "linecolor": "#A2B1C6",
            "ticks": ""
           },
           "baxis": {
            "gridcolor": "#DFE8F3",
            "linecolor": "#A2B1C6",
            "ticks": ""
           },
           "bgcolor": "white",
           "caxis": {
            "gridcolor": "#DFE8F3",
            "linecolor": "#A2B1C6",
            "ticks": ""
           }
          },
          "title": {
           "x": 0.05
          },
          "xaxis": {
           "automargin": true,
           "gridcolor": "#EBF0F8",
           "linecolor": "#EBF0F8",
           "ticks": "",
           "title": {
            "standoff": 15
           },
           "zerolinecolor": "#EBF0F8",
           "zerolinewidth": 2
          },
          "yaxis": {
           "automargin": true,
           "gridcolor": "#EBF0F8",
           "linecolor": "#EBF0F8",
           "ticks": "",
           "title": {
            "standoff": 15
           },
           "zerolinecolor": "#EBF0F8",
           "zerolinewidth": 2
          }
         }
        },
        "title": {
         "text": "<b>Frequent Words</b>"
        }
       }
      }
     },
     "metadata": {}
    }
   ],
   "source": [
    "fig1 = go.Figure(data=[go.Bar(x=['A','B','C'], y=[1,2,3])])\n",
    "fig1.update_layout(template=\"plotly_white\", title=plot_title(\"Frequent Words\"))\n",
    "fig1.show()"
   ]
  },
  {
   "cell_type": "code",
   "execution_count": null,
   "metadata": {},
   "outputs": [],
   "source": []
  },
  {
   "cell_type": "code",
   "execution_count": null,
   "metadata": {},
   "outputs": [],
   "source": []
  },
  {
   "cell_type": "code",
   "execution_count": 13,
   "id": "professional-pollution",
   "metadata": {},
   "outputs": [],
   "source": [
    "import os, pickle\n",
    "import numpy as np\n",
    "import pandas as pd\n",
    "from PIL import Image\n",
    "# import swifter\n",
    "from bs4 import BeautifulSoup\n",
    "from itertools import chain\n",
    "import re, string, unicodedata\n",
    "# import contractions\n",
    "from sklearn.feature_extraction.text import CountVectorizer\n",
    "from nltk.corpus import stopwords"
   ]
  },
  {
   "cell_type": "code",
   "execution_count": 5,
   "id": "threaded-panic",
   "metadata": {},
   "outputs": [],
   "source": [
    "# Spacy\n",
    "import spacy\n",
    "nlp = spacy.load('en_core_web_md')"
   ]
  },
  {
   "cell_type": "code",
   "execution_count": 6,
   "id": "stupid-circumstances",
   "metadata": {},
   "outputs": [],
   "source": [
    "# Plots\n",
    "import matplotlib.pyplot as plt\n",
    "from wordcloud import WordCloud, STOPWORDS\n",
    "# %matplotlib inline"
   ]
  },
  {
   "cell_type": "code",
   "execution_count": 4,
   "id": "false-visibility",
   "metadata": {},
   "outputs": [
    {
     "output_type": "stream",
     "name": "stderr",
     "text": [
      "G:\\Users\\soura\\miniconda3\\lib\\site-packages\\gensim\\similarities\\__init__.py:15: UserWarning: The gensim.similarities.levenshtein submodule is disabled, because the optional Levenshtein package <https://pypi.org/project/python-Levenshtein/> is unavailable. Install Levenhstein (e.g. `pip install python-Levenshtein`) to suppress this warning.\n  warnings.warn(msg)\n"
     ]
    }
   ],
   "source": [
    "# Gensim\n",
    "import gensim\n",
    "import gensim.corpora as corpora\n",
    "from gensim.parsing.preprocessing import remove_stopwords\n",
    "from gensim.models import Phrases\n",
    "from gensim.utils import simple_preprocess\n",
    "from gensim.models import CoherenceModel\n",
    "from gensim.models import ldaseqmodel\n",
    "from gensim.corpora import Dictionary, bleicorpus\n",
    "from gensim.matutils import hellinger"
   ]
  },
  {
   "cell_type": "code",
   "execution_count": 35,
   "id": "coral-swedish",
   "metadata": {},
   "outputs": [],
   "source": [
    "# Plots\n",
    "# import pyLDAvis\n",
    "# import pyLDAvis.gensim  # don't skip this\n",
    "import matplotlib.pyplot as plt\n",
    "from wordcloud import WordCloud, STOPWORDS\n",
    "from plotly.subplots import make_subplots\n",
    "import plotly.graph_objects as go\n",
    "# %matplotlib inline"
   ]
  },
  {
   "cell_type": "code",
   "execution_count": 8,
   "id": "injured-ukraine",
   "metadata": {},
   "outputs": [],
   "source": [
    "global DATA_PATH, RESULTS_PATH, MODEL_PATH, UTIL_PATH\n",
    "\n",
    "UTIL_PATH = \"utils\"\n",
    "# DATA_PATH = \"../data\"\n",
    "# RESULTS_PATH = \"../results\"\n",
    "# MODEL_PATH = \"../model\""
   ]
  },
  {
   "cell_type": "code",
   "execution_count": null,
   "id": "honey-consumer",
   "metadata": {},
   "outputs": [],
   "source": [
    "################## Stopwords list ##################\n",
    "stop1 = [re.sub(r\"(\\|(.)+)|(\\n)\", \"\", x.lower()) for x in open(UTIL_PATH+\"/stopwords/\"+\"StopWords_Generic.txt\", \"r\")]\n",
    "stop2 = [re.sub(r\"(\\|(.)+)|(\\n)\", \"\", x.lower()) for x in open(UTIL_PATH+\"/stopwords/\"+\"StopWords_GenericLong.txt\", \"r\")]\n",
    "stop3 = [re.sub(r\"(\\|(.)+)|(\\n)\", \"\", x.lower()) for x in open(UTIL_PATH+\"/stopwords/\"+\"StopWords_DatesandNumbers.txt\", \"r\")]\n",
    "\n",
    "custom_stp = ['say','million','year','quarter', 'month', 'thank','company','see', 'hi', 'hello', 'how',\n",
    "                 'think','get','look','okay','well','question', 'billion','management','be', 'sgd', 'usd', 'i', 'I', 'want', 'go', \n",
    "                 'thanks','morning','please','afternoon','mean','sort','guess','lot', 'right', 'much', 'would', 'could', 'bit', \n",
    "                 'like', 'give','take','expect','wonder','try','might','maybe','may','mr', 'sir', 'ahead', 'lady', 'gentleman']"
   ]
  },
  {
   "cell_type": "code",
   "execution_count": null,
   "id": "dying-harassment",
   "metadata": {},
   "outputs": [],
   "source": [
    "stop_words = set(stopwords.words(\"english\") + STOPWORDS + stop1 + stop2 + stop3 + custom_stp)"
   ]
  },
  {
   "cell_type": "code",
   "execution_count": 72,
   "id": "elementary-outdoors",
   "metadata": {},
   "outputs": [],
   "source": [
    "class Documents:   \n",
    "    def __init__(self, stop_words=None, data_frame=None, text_column=None):\n",
    "        self.stop_words = stop_words\n",
    "        self.clean_status = False\n",
    "\n",
    "        if (isinstance(data_frame, pd.DataFrame) & isinstance(text_column, str)):\n",
    "            self.raw_df = data_frame\n",
    "            self.processed_df = self.raw_df\n",
    "        else:\n",
    "            raise TypeError(\"data_frame should be a dataframe and the text_column should be string\")\n",
    "        \n",
    "        if str(text_column) in self.raw_df.columns:\n",
    "            self.text_column = text_column \n",
    "        else:\n",
    "            raise ValueError(\"Cannot find \" + str(text_column) + \" in the dataframe.\")\n",
    "        \n",
    "   \n",
    "\n",
    "    ################## Text Cleaning ##################\n",
    "        \n",
    "    def __flatten(self, listOfLists):\n",
    "        \"Flatten one level of nesting\"\n",
    "        return list(chain.from_iterable(listOfLists))\n",
    "    \n",
    "    # Lemmatize with POS Tag\n",
    "    # def __get_wordnet_pos(self, word):\n",
    "    #     \"\"\"Map POS tag to first character lemmatize() accepts\"\"\"\n",
    "    #     tag = nltk.pos_tag([word])[0][1][0].upper()\n",
    "    #     tag_dict = {\"J\": wordnet.ADJ,\n",
    "    #                 \"N\": wordnet.NOUN,\n",
    "    #                 \"V\": wordnet.VERB,\n",
    "    #                 \"R\": wordnet.ADV}\n",
    "    #     return tag_dict.get(tag, wordnet.NOUN)\n",
    "\n",
    "    def __strip_html_tags(self, text):\n",
    "        soup = BeautifulSoup(text, \"html.parser\")\n",
    "        [s.extract() for s in soup(['iframe', 'script'])]\n",
    "        stripped_text = soup.get_text()\n",
    "        stripped_text = re.sub(r'[\\r|\\n|\\r\\n]+', '\\n', stripped_text)\n",
    "        return stripped_text\n",
    "\n",
    "    def __remove_accented_chars(self, text):\n",
    "        text = unicodedata.normalize('NFKD', text).encode('ascii', 'ignore').decode('utf-8', 'ignore')\n",
    "        return text\n",
    "\n",
    "    # def __expand_contractions(self, text):\n",
    "    #     return contractions.fix(text)\n",
    "\n",
    "    def __remove_special_characters(self, text, remove_digits=False):\n",
    "        pattern = r'[^a-zA-Z0-9\\s]' if not remove_digits else r'[^a-zA-Z\\s]'\n",
    "        text = re.sub(pattern, '', text)\n",
    "        return text\n",
    "\n",
    "    def __clean_text(self, document):        \n",
    "        # converting to text\n",
    "        document =  str(document)\n",
    "\n",
    "        # strip HTML\n",
    "        document = self.__strip_html_tags(document)\n",
    "\n",
    "        # lower case\n",
    "        document = document.lower()\n",
    "\n",
    "        # remove extra newlines (often might be present in really noisy text)\n",
    "        document = document.translate(document.maketrans(\"\\n\\t\\r\", \"   \"))\n",
    "\n",
    "        # remove accented characters\n",
    "        document = self.__remove_accented_chars(document)\n",
    "        document = re.sub(r\"x+\", \"\", document)\n",
    "        document = re.sub(r\"(<br/>)\", \"\", document)\n",
    "        document = re.sub(r\"(<a).*(>).*(</a>)\", \"\", document)\n",
    "        document = re.sub(r\"(&amp)\", \"\", document)\n",
    "        document = re.sub(r\"(&gt)\", \"\", document)\n",
    "        document = re.sub(r\"(&lt)\", \"\", document)\n",
    "        document = re.sub(r\"(\\xa0)\", \" \", document)\n",
    "\n",
    "        # remove special characters and\\or digits    \n",
    "        # insert spaces between special characters to isolate them    \n",
    "        special_char_pattern = re.compile(r'([{.(-)!}])')\n",
    "        document = special_char_pattern.sub(\" \\\\1 \", document)\n",
    "        document = self.__remove_special_characters(document, remove_digits=True)  \n",
    "\n",
    "        # remove extra whitespace\n",
    "        document = re.sub(' +', ' ', document)\n",
    "        document = document.strip()\n",
    "        \n",
    "        # expand contractions    \n",
    "        # document = self.__expand_contractions(document)\n",
    "\n",
    "        # Split the documents into tokens.\n",
    "        tokenizer = RegexpTokenizer(r'\\w+')\n",
    "        document = document.lower()  # Convert to lowercase.\n",
    "        document = tokenizer.tokenize(document)  # Split into words.\n",
    "\n",
    "        # Remove numbers, but not words that contain numbers.\n",
    "        # Remove words that are only one character.\n",
    "        # Remove stopwords\n",
    "        document = [token for token in document if not token.isnumeric()]\n",
    "        document = [token for token in document if len(document) > 1]   \n",
    "        document = [word for word in document if not word in self.stop_words]\n",
    "        document = \" \".join(document)\n",
    "        \n",
    "        # lemmatize\n",
    "        document = [token.lemma_ for token in nlp(document) if not token.is_stop]\n",
    "        document = [word for word in document if not word in self.stop_words]\n",
    "        document = \" \".join(document)\n",
    "\n",
    "        return document\n",
    "\n",
    "    \n",
    "    def prep_docs(self, return_df=True):\n",
    "        cleaned_text = str(self.text_column) + \"_clean\"\n",
    "        self.processed_df[cleaned_text] = self.processed_df[self.text_column].apply(lambda x: self.__clean_text(x))\n",
    "        self.clean_status = True\n",
    "        if return_df:\n",
    "            return self.processed_df\n",
    "\n",
    "\n",
    "    def __get_ngrams(self, corpus, nwords=20, min_count=1, ngram=1, most_frequent_first=True):\n",
    "        vec = CountVectorizer(ngram_range(ngram,ngram)).fit(corpus)\n",
    "        bag_of_words = vec.transform(corpus)\n",
    "        sum_words = bag_of_words.sum(axis=0) \n",
    "        words_freq = [(word, sum_words[0, idx]) for word, idx in vec.vocabulary_.items() if idx >= min_count]\n",
    "        if most_frequent_first:\n",
    "            words_freq =sorted(words_freq, key = lambda x: x[1], reverse=True)\n",
    "        else:\n",
    "            words_freq =sorted(words_freq, key = lambda x: x[1], reverse=False)\n",
    "        temp_df = pd.DataFrame(words_freq[:nwords] , columns = ['Phrase' , 'Count'])     \n",
    "        return temp_df   \n",
    "\n",
    "\n",
    "    def __plot_cloud(self, wordcloud):\n",
    "        # Set figure size\n",
    "        plt.figure(figsize=(40, 30))\n",
    "        # Display image\n",
    "        plt.imshow(wordcloud) \n",
    "        # No axis details\n",
    "        plt.axis(\"off\")\n",
    "\n",
    "\n",
    "    ##################### Exploratory Data Analysis #####################\n",
    "\n",
    "    def explore(self, ngram_range=(1,1), nwords=20, min_count=1):\n",
    "        cleaned_text = str(self.text_column) + \"_clean\"\n",
    "        if not self.clean_status:\n",
    "            self.prep_docs(return_df=False)\n",
    "\n",
    "        if (isinstance(ngram_range, tuple)) & (ngram_range[0] > 0) & (ngram_range[1] >= ngram_range[0]):\n",
    "            self.ngram_range = ngram_range \n",
    "        else:\n",
    "            raise TypeError(\"ngram_range has to be a tuple with first_term / lower-limit less-than or equal-to the second term / upper-limit\")\n",
    "\n",
    "        for ng in range(self.ngram_range[0], self.ngram_range[1]+1):\n",
    "            if ng==1:\n",
    "                temp_df1 = self.__get_ngrams(self.processed_df[cleaned_text], nwords=nwords, min_count=min_count, ngram=ng, most_frequent_first=True)\n",
    "                temp_df1.groupby('Phrase').sum()['Count'].sort_values(ascending=False).iplot(kind='bar', yTitle='Count', linecolor='black', title='Frequent Words')\n",
    "                temp_df2 = self.__get_ngrams(self.processed_df[cleaned_text], nwords=nwords, min_count=min_count, ngram=ng, most_frequent_first=False)\n",
    "                temp_df2.groupby('Phrase').sum()['Count'].sort_values(ascending=False).iplot(kind='bar', yTitle='Count', linecolor='black', title='Rare Words')\n",
    "            else:\n",
    "                temp_df1 = self.__get_ngrams(self.processed_df[text_column], nwords=nwords, min_count=min_count, ngram=ng, most_frequent_first=True)\n",
    "                temp_df1.groupby('Phrase').sum()['Count'].sort_values(ascending=False).iplot(kind='bar', yTitle='Count', linecolor='black', title='Frequent Phrases')\n",
    "                temp_df2 = self.__get_ngrams(self.processed_df[text_column], nwords=nwords, min_count=min_count, ngram=ng, most_frequent_first=False)\n",
    "                temp_df2.groupby('Phrase').sum()['Count'].sort_values(ascending=False).iplot(kind='bar', yTitle='Count', linecolor='black', title='Rare Phrases')\n",
    "        \n",
    "        # Import image to np.array & Generate word cloud\n",
    "        mask = np.array(Image.open(UTIL_PATH + \"/wordcloud_mask/\" + \"comment.png\"))\n",
    "        text = \" \".join(self.processed_df[cleaned_text].tolist())\n",
    "        wordcloud = WordCloud(width=3000, height=2000, random_state=1, background_color='white', colormap='Set2', collocations=False, \n",
    "        stopwords=self.stop_words, mask=mask).generate(text)\n",
    "        self.__plot_cloud(wordcloud)\n",
    "    "
   ]
  },
  {
   "cell_type": "code",
   "execution_count": null,
   "metadata": {},
   "outputs": [],
   "source": [
    "# NLTK\n",
    "import nltk\n",
    "from nltk.corpus import stopwords\n",
    "from nltk import TweetTokenizer\n",
    "from nltk.stem import WordNetLemmatizer\n",
    "from nltk.tokenize import RegexpTokenizer \n",
    "# nltk.download('wordnet')\n",
    "# nltk.download('stopwords')\n",
    "# nltk.download('punkt')\n",
    "# nltk.download('averaged_perceptron_tagger')\n",
    "from nltk.corpus import wordnet"
   ]
  },
  {
   "cell_type": "code",
   "execution_count": 54,
   "metadata": {},
   "outputs": [],
   "source": [
    "class Sentiment:\n",
    "    def __init__(self, documents_object=None, method=None, lexicon=None):\n",
    "        if isinstance(documents, Documents):\n",
    "            self.doc_obj = documents_object\n",
    "            self.raw_df = documents_object.raw_df\n",
    "            if documents_object.clean_status:\n",
    "                self.processed_df = documents_object.processed_df\n",
    "                self.text_column = documents_object.text_column\n",
    "            else:\n",
    "                raise ValueError(\"Please run the prep_docs method on the Documents object first.\")\n",
    "            if method in ['lexical', 'textblob', 'vader']:\n",
    "                self.sent_method = method\n",
    "                if method == 'lexical':\n",
    "                    if lexicon in ['loughran', 'nrc']:\n",
    "                        self.sent_lexicon = lexicon\n",
    "                    else:\n",
    "                        raise ValueError(\"Please choose lexicon as either of loughran / nrc\")\n",
    "            else:\n",
    "                raise ValueError(\"Please choose method as either of lexical / textblob / vader\")\n",
    "        else:\n",
    "            raise TypeError(\"Only an object of Documents Class can be passed.\")\n",
    "\n",
    "\n",
    "    def __load_loughran(self):\n",
    "        #Load master dictionary\n",
    "        master = pd.read_csv(UTIL_PATH + \"/lexicons/loughran/\" + \"LoughranMcDonald_MasterDictionary_2018.csv\")\n",
    "        pos_words = master[master[\"Positive\"]>0].Word.str.lower().tolist()\n",
    "        neg_words = master[master[\"Negative\"]>0].Word.str.lower().tolist()\n",
    "        unc_words = master[master[\"Uncertainty\"]>0].Word.str.lower().tolist()\n",
    "        lit_words = master[master[\"Litigious\"]>0].Word.str.lower().tolist()\n",
    "        con_words = master[master[\"Constraining\"]>0].Word.str.lower().tolist()\n",
    "        sup_words = master[master[\"Superfluous\"]>0].Word.str.lower().tolist()\n",
    "        comb_list = [pos_words, neg_words, unc_words, lit_words, con_words, sup_words]\n",
    "        return comb_list\n",
    "\n",
    "    \n",
    "    def __sent_loughran(self, x, loughran_list):\n",
    "        cleaned_text = str(self.text_column) + \"_clean\"\n",
    "        pos_cnt = neg_cnt = unc_cnt = lit_cnt = con_cnt = sup_cnt = 0\n",
    "        for word in x[cleaned_text]:\n",
    "            if word in loughran_list[0]:\n",
    "                pos_cnt += 1\n",
    "            if word in loughran_list[1]:\n",
    "                neg_cnt += 1\n",
    "            if word in loughran_list[2]:\n",
    "                unc_cnt += 1\n",
    "            if word in loughran_list[3]:\n",
    "                lit_cnt += 1\n",
    "            if word in loughran_list[4]:\n",
    "                con_cnt += 1\n",
    "            if word in loughran_list[5]:\n",
    "                sup_cnt += 1\n",
    "        x['pos_shr'] = 100*pos_cnt / (pos_cnt + neg_cnt + unc_cnt + lit_cnt + con_cnt + sup_cnt)\n",
    "        x['neg_shr'] = 100*neg_cnt / (pos_cnt + neg_cnt + unc_cnt + lit_cnt + con_cnt + sup_cnt)\n",
    "        x['unc_shr'] = 100*unc_cnt / (pos_cnt + neg_cnt + unc_cnt + lit_cnt + con_cnt + sup_cnt)\n",
    "        x['lit_shr'] = 100*lit_cnt / (pos_cnt + neg_cnt + unc_cnt + lit_cnt + con_cnt + sup_cnt)\n",
    "        x['con_shr'] = 100*con_cnt / (pos_cnt + neg_cnt + unc_cnt + lit_cnt + con_cnt + sup_cnt)\n",
    "        x['sup_shr'] = 100*sup_cnt / (pos_cnt + neg_cnt + unc_cnt + lit_cnt + con_cnt + sup_cnt)\n",
    "        x['sent_scr'] = (pos_cnt - neg_cnt) / (pos_cnt + neg_cnt)\n",
    "        return x\n",
    "\n",
    "    \n",
    "    def __generate_sentiment(self):\n",
    "        temp_df = self.processed_df\n",
    "        if self.sent_method == 'lexical':\n",
    "            if self.sent_lexicon == 'loughran':\n",
    "                loughran_list = self.__load_loughran()\n",
    "                temp_df = temp_df.apply(self.__sent_loughran(loughran_list=loughran_list), axis=1)\n",
    "        return temp_df\n",
    "\n",
    "\n",
    "    def plot_sentiment(self, X_variable=None, return_df=True):\n",
    "        temp_df = self.__generate_sentiment()\n",
    "        if self.sent_method == 'lexical':\n",
    "            if self.sent_lexicon == 'loughran':\n",
    "                # plot now\n",
    "                if X_catX_variableegory is None:\n",
    "                    avg_sent = round(temp_df['sent_scr'].mean(),2)\n",
    "                    avg_pos = round(temp_df['pos_shr'].mean(),1)\n",
    "                    avg_neg = round(temp_df['neg_shr'].mean(),1)\n",
    "                    avg_unc = round(temp_df['unc_shr'].mean(),1)\n",
    "                    avg_lit = round(temp_df['lit_shr'].mean(),1)\n",
    "                    avg_con = round(temp_df['con_shr'].mean(),1)\n",
    "                    avg_sup = round(temp_df['sup_shr'].mean(),1)\n",
    "                    labels = ['Positive', 'Negative', 'Uncertainty', 'Litigious', 'Constraining', 'Superfluous']\n",
    "                    values = [avg_pos, avg_neg, avg_unc, avg_lit, avg_con, avg_sup]\n",
    "                    fig = go.Figure(data=[go.Pie(labels=labels, values=values, hole=.4, hoverinfo=\"label+percent+name\")])\n",
    "                    fig.update_layout(title_text=\"Overall Sentiment Score: \" + str(avg_sent))\n",
    "                    fig.show()\n",
    "                else:\n",
    "                    tdf = temp_df[[X_variable,'sent_scr','pos_shr','neg_shr','unc_shr','lit_shr','con_shr','sup_shr']].groupby([X_variable]).mean()\n",
    "                    tdf.sort_index(inplace=True).reset_index(inplace=True)\n",
    "                    fig = make_subplots(rows=3, cols=1, specs = [[{}], [{\"rowspan\": 2}], [None]], shared_xaxes=True, vertical_spacing=0.00)\n",
    "                    fig.add_trace(go.Scatter(x=tdf[X_variable], y=tdf['sent_scr'], mode='lines+markers', line_shape='spline', name='Sentiment Score'), row=1, col=1)\n",
    "                    fig.add_trace(go.bar(x=tdf[X_variable], y=tdf['pos_shr'].round(1), name='Positive'), row=2,col=1)\n",
    "                    fig.add_trace(go.bar(x=tdf[X_variable], y=tdf['neg_shr'].round(1), name='Negative'), row=2,col=1)\n",
    "                    fig.add_trace(go.bar(x=tdf[X_variable], y=tdf['unc_shr'].round(1), name='Uncertainty'), row=2,col=1)\n",
    "                    fig.add_trace(go.bar(x=tdf[X_variable], y=tdf['lit_shr'].round(1), name='Litigious'), row=2,col=1)\n",
    "                    fig.add_trace(go.bar(x=tdf[X_variable], y=tdf['con_shr'].round(1), name='Constraining'), row=2,col=1)\n",
    "                    fig.add_trace(go.bar(x=tdf[X_variable], y=tdf['sup_shr'].round(1), name='Superfluous'), row=2,col=1)\n",
    "                    fig.update_layout(barmode='stack', plot_bgcolor=\"white\", yaxis_visible=False, yaxis_showticklabels=False,\n",
    "                    yaxis2_visible=False, yaxis2_showticklabels=False)\n",
    "                    fig.show()\n",
    "        if return_df:\n",
    "            return temp_df \n"
   ]
  },
  {
   "cell_type": "code",
   "execution_count": null,
   "metadata": {},
   "outputs": [],
   "source": [
    "from gensim.summarization import summarize, keywords"
   ]
  },
  {
   "cell_type": "code",
   "execution_count": null,
   "metadata": {},
   "outputs": [],
   "source": [
    "class Summary:\n",
    "    def __init__(self, documents_object=None, method=None, summary_ratio=None, keyword_ratio=None):\n",
    "        if isinstance(documents, Documents):\n",
    "            self.doc_obj = documents_object\n",
    "            self.raw_df = documents_object.raw_df\n",
    "            if documents_object.clean_status:\n",
    "                self.processed_df = documents_object.processed_df\n",
    "                self.text_column = documents_object.text_column\n",
    "            else:\n",
    "                raise ValueError(\"Please run the prep_docs method on the Documents object first.\")\n",
    "            if method in ['summary', 'all']:\n",
    "                if (summary_ratio > 0 & summary_ratio < 1.0):\n",
    "                    self.summary_ratio = summary_ratio\n",
    "                else:\n",
    "                    raise ValueError(\"Summary-Ratio should be between (0, 1) non-inclusive rage\")\n",
    "            else:\n",
    "                raise ValueError(\"Please choose method as either of summary / keyword / all\")\n",
    "            if method in ['keyword', 'all']:\n",
    "                if (keyword_ratio > 0 & keyword_ratio < 1.0):\n",
    "                    self.keyword_ratio = keyword_ratio\n",
    "                else:\n",
    "                    raise ValueError(\"KeyWord-Ratio should be between (0, 1) non-inclusive rage\")\n",
    "            else:\n",
    "                raise ValueError(\"Please choose method as either of summary / keyword / all\")\n",
    "        else:\n",
    "            raise TypeError(\"Only an object of Documents Class can be passed.\")\n",
    "    \n",
    "    def __get_summary():\n"
   ]
  },
  {
   "cell_type": "code",
   "execution_count": null,
   "metadata": {},
   "outputs": [],
   "source": []
  },
  {
   "cell_type": "code",
   "execution_count": null,
   "metadata": {},
   "outputs": [],
   "source": []
  },
  {
   "cell_type": "code",
   "execution_count": null,
   "metadata": {},
   "outputs": [],
   "source": []
  },
  {
   "cell_type": "code",
   "execution_count": null,
   "metadata": {},
   "outputs": [],
   "source": []
  },
  {
   "cell_type": "code",
   "execution_count": null,
   "id": "serious-customer",
   "metadata": {},
   "outputs": [],
   "source": [
    " ################## Topic Modeling Formatted output ##################\n",
    "\n",
    "    def format_topics_sentences(self, ldamodel=None, corpus=None, texts=None):\n",
    "        # Init output\n",
    "        sent_topics_df = pd.DataFrame()\n",
    "\n",
    "        # Get main topic in each document\n",
    "        for i, row_list in enumerate(ldamodel[corpus]):\n",
    "            row = row_list[0] if ldamodel.per_word_topics else row_list            \n",
    "            # print(row)\n",
    "            row = sorted(row, key=lambda x: (x[1]), reverse=True)\n",
    "            # Get the Dominant topic, Perc Contribution and Keywords for each document\n",
    "            for j, (topic_num, prop_topic) in enumerate(row):\n",
    "                if j == 0:  # => dominant topic\n",
    "                    wp = ldamodel.show_topic(topic_num)\n",
    "                    topic_keywords = \", \".join([word for word, prop in wp])\n",
    "                    sent_topics_df = sent_topics_df.append(pd.Series([int(topic_num), round(prop_topic,4), topic_keywords]), ignore_index=True)\n",
    "                else:\n",
    "                    break\n",
    "        sent_topics_df.columns = ['Dominant_Topic', 'Perc_Contribution', 'Topic_Keywords']\n",
    "\n",
    "        # Add original text to the end of the output\n",
    "        contents = pd.Series(texts)\n",
    "        sent_topics_df = pd.concat([sent_topics_df, contents], axis=1)\n",
    "        return sent_topics_df"
   ]
  },
  {
   "cell_type": "code",
   "execution_count": null,
   "metadata": {},
   "outputs": [],
   "source": [
    "\n",
    "common_words = get_top_n_words(df['Review Text'], 20)\n",
    "for word, freq in common_words:\n",
    "    print(word, freq)\n",
    "df2 = pd.DataFrame(common_words, columns = ['ReviewText' , 'count'])\n",
    "df2.groupby('ReviewText').sum()['count'].sort_values(ascending=False).iplot(\n",
    "    kind='bar', yTitle='Count', linecolor='black', title='Top 20 words in review after removing stop words')"
   ]
  },
  {
   "cell_type": "code",
   "execution_count": null,
   "metadata": {},
   "outputs": [],
   "source": [
    "\n",
    "\n",
    "vec = CountVectorizer().fit(corpus)\n",
    "bag_of_words = vec.transform(corpus)\n",
    "sum_words = bag_of_words.sum(axis=0) \n",
    "words_freq = [(word, sum_words[0, idx]) for word, idx in vec.vocabulary_.items()]\n",
    "words_freq =sorted(words_freq, key = lambda x: x[1], reverse=True)"
   ]
  },
  {
   "cell_type": "code",
   "execution_count": 14,
   "metadata": {},
   "outputs": [],
   "source": [
    "corpus = [\n",
    "...     'This is the first document.',\n",
    "...     'This document is the second document.',\n",
    "...     'And this is the third one.',\n",
    "...     'Is this the first document?',\n",
    "... ]"
   ]
  },
  {
   "cell_type": "code",
   "execution_count": 28,
   "metadata": {},
   "outputs": [],
   "source": [
    "vec = CountVectorizer().fit(corpus)\n",
    "bag_of_words = vec.transform(corpus)\n",
    "sum_words = bag_of_words.sum(axis=0) \n",
    "words_freq = [(word, sum_words[0, idx]) for word, idx in vec.vocabulary_.items()]"
   ]
  },
  {
   "cell_type": "code",
   "execution_count": 20,
   "metadata": {},
   "outputs": [
    {
     "output_type": "execute_result",
     "data": {
      "text/plain": [
       "dict_items([('this', 8), ('is', 3), ('the', 6), ('first', 2), ('document', 1), ('second', 5), ('and', 0), ('third', 7), ('one', 4)])"
      ]
     },
     "metadata": {},
     "execution_count": 20
    }
   ],
   "source": [
    "vec.vocabulary_.items()"
   ]
  },
  {
   "cell_type": "code",
   "execution_count": 36,
   "metadata": {},
   "outputs": [],
   "source": [
    "words_freq =sorted(words_freq, key = lambda x: x[1], reverse=False)"
   ]
  },
  {
   "cell_type": "code",
   "execution_count": 51,
   "metadata": {},
   "outputs": [
    {
     "output_type": "stream",
     "name": "stdout",
     "text": [
      "1\n2\n"
     ]
    }
   ],
   "source": [
    "for i in range(1, 3):\n",
    "    print(i)"
   ]
  },
  {
   "cell_type": "code",
   "execution_count": 52,
   "metadata": {},
   "outputs": [
    {
     "output_type": "execute_result",
     "data": {
      "text/plain": [
       "pandas.core.frame.DataFrame"
      ]
     },
     "metadata": {},
     "execution_count": 52
    }
   ],
   "source": [
    "xx  = (1,2)\n",
    "type(df2) == pandas.core.frame.DataFrame"
   ]
  },
  {
   "cell_type": "code",
   "execution_count": 29,
   "metadata": {},
   "outputs": [],
   "source": [
    "df2 = pd.DataFrame(words_freq, columns = ['ReviewText' , 'count'])"
   ]
  },
  {
   "cell_type": "code",
   "execution_count": 30,
   "metadata": {},
   "outputs": [
    {
     "output_type": "stream",
     "name": "stdout",
     "text": [
      "this\nis\nthe\nfirst\ndocument\nsecond\nand\nthird\none\n"
     ]
    }
   ],
   "source": [
    "for x in df2['ReviewText']:\n",
    "    print(x)"
   ]
  },
  {
   "cell_type": "code",
   "execution_count": 65,
   "metadata": {},
   "outputs": [
    {
     "output_type": "execute_result",
     "data": {
      "text/plain": [
       "True"
      ]
     },
     "metadata": {},
     "execution_count": 65
    }
   ],
   "source": [
    "'pp' not in df2.columns\n"
   ]
  },
  {
   "cell_type": "code",
   "execution_count": 70,
   "metadata": {},
   "outputs": [],
   "source": [
    "text = \" \".join(corpus)\n",
    "wordcloud = WordCloud(width=3000, height=2000, random_state=1, background_color='white', colormap='Set2', collocations=False, \n",
    "stopwords=STOPWORDS).generate(text)"
   ]
  },
  {
   "cell_type": "code",
   "execution_count": 71,
   "metadata": {},
   "outputs": [
    {
     "output_type": "execute_result",
     "data": {
      "text/plain": [
       "(-0.5, 2999.5, 1999.5, -0.5)"
      ]
     },
     "metadata": {},
     "execution_count": 71
    },
    {
     "output_type": "display_data",
     "data": {
      "text/plain": "<Figure size 2880x2160 with 1 Axes>",
      "image/svg+xml": "<?xml version=\"1.0\" encoding=\"utf-8\" standalone=\"no\"?>\r\n<!DOCTYPE svg PUBLIC \"-//W3C//DTD SVG 1.1//EN\"\r\n  \"http://www.w3.org/Graphics/SVG/1.1/DTD/svg11.dtd\">\r\n<!-- Created with matplotlib (https://matplotlib.org/) -->\r\n<svg height=\"1502.4pt\" version=\"1.1\" viewBox=\"0 0 2246.4 1502.4\" width=\"2246.4pt\" xmlns=\"http://www.w3.org/2000/svg\" xmlns:xlink=\"http://www.w3.org/1999/xlink\">\r\n <metadata>\r\n  <rdf:RDF xmlns:cc=\"http://creativecommons.org/ns#\" xmlns:dc=\"http://purl.org/dc/elements/1.1/\" xmlns:rdf=\"http://www.w3.org/1999/02/22-rdf-syntax-ns#\">\r\n   <cc:Work>\r\n    <dc:type rdf:resource=\"http://purl.org/dc/dcmitype/StillImage\"/>\r\n    <dc:date>2021-04-15T17:47:53.587761</dc:date>\r\n    <dc:format>image/svg+xml</dc:format>\r\n    <dc:creator>\r\n     <cc:Agent>\r\n      <dc:title>Matplotlib v3.3.4, https://matplotlib.org/</dc:title>\r\n     </cc:Agent>\r\n    </dc:creator>\r\n   </cc:Work>\r\n  </rdf:RDF>\r\n </metadata>\r\n <defs>\r\n  <style type=\"text/css\">*{stroke-linecap:butt;stroke-linejoin:round;}</style>\r\n </defs>\r\n <g id=\"figure_1\">\r\n  <g id=\"patch_1\">\r\n   <path d=\"M 0 1502.4 \r\nL 2246.4 1502.4 \r\nL 2246.4 0 \r\nL 0 0 \r\nz\r\n\" style=\"fill:none;\"/>\r\n  </g>\r\n  <g id=\"axes_1\">\r\n   <g clip-path=\"url(#pc1a49eadb7)\">\r\n    <image height=\"1488\" id=\"image6a637700d5\" transform=\"scale(1 -1)translate(0 -1488)\" width=\"2232\" x=\"7.2\" xlink:href=\"data:image/png;base64,\r\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\" y=\"-7.2\"/>\r\n   </g>\r\n  </g>\r\n </g>\r\n <defs>\r\n  <clipPath id=\"pc1a49eadb7\">\r\n   <rect height=\"1488\" width=\"2232\" x=\"7.2\" y=\"7.2\"/>\r\n  </clipPath>\r\n </defs>\r\n</svg>\r\n",
      "image/png": "[encoded data removed]"
     },
     "metadata": {
      "needs_background": "light"
     }
    }
   ],
   "source": [
    "# Set figure size\n",
    "plt.figure(figsize=(40, 30))\n",
    "# Display image\n",
    "plt.imshow(wordcloud) \n",
    "# No axis details\n",
    "plt.axis(\"off\")"
   ]
  },
  {
   "cell_type": "code",
   "execution_count": 80,
   "metadata": {},
   "outputs": [
    {
     "output_type": "execute_result",
     "data": {
      "text/plain": [
       "True"
      ]
     },
     "metadata": {},
     "execution_count": 80
    }
   ],
   "source": [
    "x = Documents(data_frame=df2, text_column='ReviewText')\n",
    "isinstance(x, Documents)"
   ]
  },
  {
   "cell_type": "code",
   "execution_count": 10,
   "metadata": {},
   "outputs": [],
   "source": [
    "master = pd.read_csv(UTIL_PATH+\"/lexicons/loughran/\" + \"LoughranMcDonald_MasterDictionary_2018.csv\")"
   ]
  },
  {
   "cell_type": "code",
   "execution_count": 23,
   "metadata": {},
   "outputs": [],
   "source": [
    "pos = master[master[\"Positive\"]>0].Word.str.lower().tolist()\n"
   ]
  },
  {
   "cell_type": "code",
   "execution_count": 15,
   "metadata": {},
   "outputs": [],
   "source": [
    "numbersList = [1, 2, 3]\n",
    "str_list = ['one', 'two']\n",
    "numbers_tuple = ('ONE', 'TWO', 'THREE', 'FOUR')\n",
    "\n",
    "# Notice, the size of numbersList and numbers_tuple is different\n",
    "result = zip(numbersList, numbers_tuple)"
   ]
  },
  {
   "cell_type": "code",
   "execution_count": 8,
   "metadata": {},
   "outputs": [
    {
     "output_type": "error",
     "ename": "KeyError",
     "evalue": "'Count'",
     "traceback": [
      "\u001b[1;31m---------------------------------------------------------------------------\u001b[0m",
      "\u001b[1;31mKeyError\u001b[0m                                  Traceback (most recent call last)",
      "\u001b[1;32mG:\\Users\\soura\\miniconda3\\lib\\site-packages\\pandas\\core\\indexes\\base.py\u001b[0m in \u001b[0;36mget_loc\u001b[1;34m(self, key, method, tolerance)\u001b[0m\n\u001b[0;32m   3079\u001b[0m             \u001b[1;32mtry\u001b[0m\u001b[1;33m:\u001b[0m\u001b[1;33m\u001b[0m\u001b[1;33m\u001b[0m\u001b[0m\n\u001b[1;32m-> 3080\u001b[1;33m                 \u001b[1;32mreturn\u001b[0m \u001b[0mself\u001b[0m\u001b[1;33m.\u001b[0m\u001b[0m_engine\u001b[0m\u001b[1;33m.\u001b[0m\u001b[0mget_loc\u001b[0m\u001b[1;33m(\u001b[0m\u001b[0mcasted_key\u001b[0m\u001b[1;33m)\u001b[0m\u001b[1;33m\u001b[0m\u001b[1;33m\u001b[0m\u001b[0m\n\u001b[0m\u001b[0;32m   3081\u001b[0m             \u001b[1;32mexcept\u001b[0m \u001b[0mKeyError\u001b[0m \u001b[1;32mas\u001b[0m \u001b[0merr\u001b[0m\u001b[1;33m:\u001b[0m\u001b[1;33m\u001b[0m\u001b[1;33m\u001b[0m\u001b[0m\n",
      "\u001b[1;32mpandas\\_libs\\index.pyx\u001b[0m in \u001b[0;36mpandas._libs.index.IndexEngine.get_loc\u001b[1;34m()\u001b[0m\n",
      "\u001b[1;32mpandas\\_libs\\index.pyx\u001b[0m in \u001b[0;36mpandas._libs.index.IndexEngine.get_loc\u001b[1;34m()\u001b[0m\n",
      "\u001b[1;32mpandas\\_libs\\hashtable_class_helper.pxi\u001b[0m in \u001b[0;36mpandas._libs.hashtable.PyObjectHashTable.get_item\u001b[1;34m()\u001b[0m\n",
      "\u001b[1;32mpandas\\_libs\\hashtable_class_helper.pxi\u001b[0m in \u001b[0;36mpandas._libs.hashtable.PyObjectHashTable.get_item\u001b[1;34m()\u001b[0m\n",
      "\u001b[1;31mKeyError\u001b[0m: 'Count'",
      "\nThe above exception was the direct cause of the following exception:\n",
      "\u001b[1;31mKeyError\u001b[0m                                  Traceback (most recent call last)",
      "\u001b[1;32m<ipython-input-8-71ec89b41a6d>\u001b[0m in \u001b[0;36m<module>\u001b[1;34m\u001b[0m\n\u001b[1;32m----> 1\u001b[1;33m \u001b[0mdf_imdb_clean\u001b[0m\u001b[1;33m.\u001b[0m\u001b[0mgroupby\u001b[0m\u001b[1;33m(\u001b[0m\u001b[1;34m'sentiment'\u001b[0m\u001b[1;33m)\u001b[0m\u001b[1;33m.\u001b[0m\u001b[0msum\u001b[0m\u001b[1;33m(\u001b[0m\u001b[1;33m)\u001b[0m\u001b[1;33m[\u001b[0m\u001b[1;34m'Count'\u001b[0m\u001b[1;33m]\u001b[0m\u001b[1;33m.\u001b[0m\u001b[0msort_values\u001b[0m\u001b[1;33m(\u001b[0m\u001b[0mascending\u001b[0m\u001b[1;33m=\u001b[0m\u001b[1;32mFalse\u001b[0m\u001b[1;33m)\u001b[0m\u001b[1;33m\u001b[0m\u001b[1;33m\u001b[0m\u001b[0m\n\u001b[0m",
      "\u001b[1;32mG:\\Users\\soura\\miniconda3\\lib\\site-packages\\pandas\\core\\frame.py\u001b[0m in \u001b[0;36m__getitem__\u001b[1;34m(self, key)\u001b[0m\n\u001b[0;32m   3022\u001b[0m             \u001b[1;32mif\u001b[0m \u001b[0mself\u001b[0m\u001b[1;33m.\u001b[0m\u001b[0mcolumns\u001b[0m\u001b[1;33m.\u001b[0m\u001b[0mnlevels\u001b[0m \u001b[1;33m>\u001b[0m \u001b[1;36m1\u001b[0m\u001b[1;33m:\u001b[0m\u001b[1;33m\u001b[0m\u001b[1;33m\u001b[0m\u001b[0m\n\u001b[0;32m   3023\u001b[0m                 \u001b[1;32mreturn\u001b[0m \u001b[0mself\u001b[0m\u001b[1;33m.\u001b[0m\u001b[0m_getitem_multilevel\u001b[0m\u001b[1;33m(\u001b[0m\u001b[0mkey\u001b[0m\u001b[1;33m)\u001b[0m\u001b[1;33m\u001b[0m\u001b[1;33m\u001b[0m\u001b[0m\n\u001b[1;32m-> 3024\u001b[1;33m             \u001b[0mindexer\u001b[0m \u001b[1;33m=\u001b[0m \u001b[0mself\u001b[0m\u001b[1;33m.\u001b[0m\u001b[0mcolumns\u001b[0m\u001b[1;33m.\u001b[0m\u001b[0mget_loc\u001b[0m\u001b[1;33m(\u001b[0m\u001b[0mkey\u001b[0m\u001b[1;33m)\u001b[0m\u001b[1;33m\u001b[0m\u001b[1;33m\u001b[0m\u001b[0m\n\u001b[0m\u001b[0;32m   3025\u001b[0m             \u001b[1;32mif\u001b[0m \u001b[0mis_integer\u001b[0m\u001b[1;33m(\u001b[0m\u001b[0mindexer\u001b[0m\u001b[1;33m)\u001b[0m\u001b[1;33m:\u001b[0m\u001b[1;33m\u001b[0m\u001b[1;33m\u001b[0m\u001b[0m\n\u001b[0;32m   3026\u001b[0m                 \u001b[0mindexer\u001b[0m \u001b[1;33m=\u001b[0m \u001b[1;33m[\u001b[0m\u001b[0mindexer\u001b[0m\u001b[1;33m]\u001b[0m\u001b[1;33m\u001b[0m\u001b[1;33m\u001b[0m\u001b[0m\n",
      "\u001b[1;32mG:\\Users\\soura\\miniconda3\\lib\\site-packages\\pandas\\core\\indexes\\base.py\u001b[0m in \u001b[0;36mget_loc\u001b[1;34m(self, key, method, tolerance)\u001b[0m\n\u001b[0;32m   3080\u001b[0m                 \u001b[1;32mreturn\u001b[0m \u001b[0mself\u001b[0m\u001b[1;33m.\u001b[0m\u001b[0m_engine\u001b[0m\u001b[1;33m.\u001b[0m\u001b[0mget_loc\u001b[0m\u001b[1;33m(\u001b[0m\u001b[0mcasted_key\u001b[0m\u001b[1;33m)\u001b[0m\u001b[1;33m\u001b[0m\u001b[1;33m\u001b[0m\u001b[0m\n\u001b[0;32m   3081\u001b[0m             \u001b[1;32mexcept\u001b[0m \u001b[0mKeyError\u001b[0m \u001b[1;32mas\u001b[0m \u001b[0merr\u001b[0m\u001b[1;33m:\u001b[0m\u001b[1;33m\u001b[0m\u001b[1;33m\u001b[0m\u001b[0m\n\u001b[1;32m-> 3082\u001b[1;33m                 \u001b[1;32mraise\u001b[0m \u001b[0mKeyError\u001b[0m\u001b[1;33m(\u001b[0m\u001b[0mkey\u001b[0m\u001b[1;33m)\u001b[0m \u001b[1;32mfrom\u001b[0m \u001b[0merr\u001b[0m\u001b[1;33m\u001b[0m\u001b[1;33m\u001b[0m\u001b[0m\n\u001b[0m\u001b[0;32m   3083\u001b[0m \u001b[1;33m\u001b[0m\u001b[0m\n\u001b[0;32m   3084\u001b[0m         \u001b[1;32mif\u001b[0m \u001b[0mtolerance\u001b[0m \u001b[1;32mis\u001b[0m \u001b[1;32mnot\u001b[0m \u001b[1;32mNone\u001b[0m\u001b[1;33m:\u001b[0m\u001b[1;33m\u001b[0m\u001b[1;33m\u001b[0m\u001b[0m\n",
      "\u001b[1;31mKeyError\u001b[0m: 'Count'"
     ]
    }
   ],
   "source": [
    "df_imdb_clean.groupby('sentiment').sum()['Count'].sort_values(ascending=False)"
   ]
  },
  {
   "cell_type": "code",
   "execution_count": 28,
   "metadata": {},
   "outputs": [],
   "source": [
    "df = pd.DataFrame({'A': [1, 1, 2, 1, 2],\n",
    "                   'B': [np.nan, 2, 3, 4, 5],\n",
    "                   'C': [1, 2, 1, 1, 2]}, columns=['A', 'B', 'C'])"
   ]
  },
  {
   "cell_type": "code",
   "execution_count": 36,
   "metadata": {},
   "outputs": [],
   "source": [
    "animals=['giraffes', 'orangutans', 'monkeys']\n",
    "y1=[0.1, 1.4, 2.3]\n",
    "y2=[20, 14, 23]\n",
    "y3=[30, 24, 43]"
   ]
  },
  {
   "cell_type": "code",
   "execution_count": 53,
   "metadata": {},
   "outputs": [
    {
     "output_type": "display_data",
     "data": {
      "application/vnd.plotly.v1+json": {
       "config": {
        "plotlyServerURL": "https://plot.ly"
       },
       "data": [
        {
         "line": {
          "shape": "spline"
         },
         "mode": "lines+markers",
         "type": "scatter",
         "x": [
          "giraffes",
          "orangutans",
          "monkeys"
         ],
         "xaxis": "x",
         "y": [
          0.1,
          1.4,
          2.3
         ],
         "yaxis": "y"
        },
        {
         "hoverinfo": "all",
         "type": "bar",
         "x": [
          "giraffes",
          "orangutans",
          "monkeys"
         ],
         "xaxis": "x2",
         "y": [
          20,
          14,
          23
         ],
         "yaxis": "y2"
        },
        {
         "type": "bar",
         "x": [
          "giraffes",
          "orangutans",
          "monkeys"
         ],
         "xaxis": "x2",
         "y": [
          30,
          24,
          43
         ],
         "yaxis": "y2"
        }
       ],
       "layout": {
        "barmode": "stack",
        "plot_bgcolor": "white",
        "template": {
         "data": {
          "bar": [
           {
            "error_x": {
             "color": "#2a3f5f"
            },
            "error_y": {
             "color": "#2a3f5f"
            },
            "marker": {
             "line": {
              "color": "#E5ECF6",
              "width": 0.5
             }
            },
            "type": "bar"
           }
          ],
          "barpolar": [
           {
            "marker": {
             "line": {
              "color": "#E5ECF6",
              "width": 0.5
             }
            },
            "type": "barpolar"
           }
          ],
          "carpet": [
           {
            "aaxis": {
             "endlinecolor": "#2a3f5f",
             "gridcolor": "white",
             "linecolor": "white",
             "minorgridcolor": "white",
             "startlinecolor": "#2a3f5f"
            },
            "baxis": {
             "endlinecolor": "#2a3f5f",
             "gridcolor": "white",
             "linecolor": "white",
             "minorgridcolor": "white",
             "startlinecolor": "#2a3f5f"
            },
            "type": "carpet"
           }
          ],
          "choropleth": [
           {
            "colorbar": {
             "outlinewidth": 0,
             "ticks": ""
            },
            "type": "choropleth"
           }
          ],
          "contour": [
           {
            "colorbar": {
             "outlinewidth": 0,
             "ticks": ""
            },
            "colorscale": [
             [
              0,
              "#0d0887"
             ],
             [
              0.1111111111111111,
              "#46039f"
             ],
             [
              0.2222222222222222,
              "#7201a8"
             ],
             [
              0.3333333333333333,
              "#9c179e"
             ],
             [
              0.4444444444444444,
              "#bd3786"
             ],
             [
              0.5555555555555556,
              "#d8576b"
             ],
             [
              0.6666666666666666,
              "#ed7953"
             ],
             [
              0.7777777777777778,
              "#fb9f3a"
             ],
             [
              0.8888888888888888,
              "#fdca26"
             ],
             [
              1,
              "#f0f921"
             ]
            ],
            "type": "contour"
           }
          ],
          "contourcarpet": [
           {
            "colorbar": {
             "outlinewidth": 0,
             "ticks": ""
            },
            "type": "contourcarpet"
           }
          ],
          "heatmap": [
           {
            "colorbar": {
             "outlinewidth": 0,
             "ticks": ""
            },
            "colorscale": [
             [
              0,
              "#0d0887"
             ],
             [
              0.1111111111111111,
              "#46039f"
             ],
             [
              0.2222222222222222,
              "#7201a8"
             ],
             [
              0.3333333333333333,
              "#9c179e"
             ],
             [
              0.4444444444444444,
              "#bd3786"
             ],
             [
              0.5555555555555556,
              "#d8576b"
             ],
             [
              0.6666666666666666,
              "#ed7953"
             ],
             [
              0.7777777777777778,
              "#fb9f3a"
             ],
             [
              0.8888888888888888,
              "#fdca26"
             ],
             [
              1,
              "#f0f921"
             ]
            ],
            "type": "heatmap"
           }
          ],
          "heatmapgl": [
           {
            "colorbar": {
             "outlinewidth": 0,
             "ticks": ""
            },
            "colorscale": [
             [
              0,
              "#0d0887"
             ],
             [
              0.1111111111111111,
              "#46039f"
             ],
             [
              0.2222222222222222,
              "#7201a8"
             ],
             [
              0.3333333333333333,
              "#9c179e"
             ],
             [
              0.4444444444444444,
              "#bd3786"
             ],
             [
              0.5555555555555556,
              "#d8576b"
             ],
             [
              0.6666666666666666,
              "#ed7953"
             ],
             [
              0.7777777777777778,
              "#fb9f3a"
             ],
             [
              0.8888888888888888,
              "#fdca26"
             ],
             [
              1,
              "#f0f921"
             ]
            ],
            "type": "heatmapgl"
           }
          ],
          "histogram": [
           {
            "marker": {
             "colorbar": {
              "outlinewidth": 0,
              "ticks": ""
             }
            },
            "type": "histogram"
           }
          ],
          "histogram2d": [
           {
            "colorbar": {
             "outlinewidth": 0,
             "ticks": ""
            },
            "colorscale": [
             [
              0,
              "#0d0887"
             ],
             [
              0.1111111111111111,
              "#46039f"
             ],
             [
              0.2222222222222222,
              "#7201a8"
             ],
             [
              0.3333333333333333,
              "#9c179e"
             ],
             [
              0.4444444444444444,
              "#bd3786"
             ],
             [
              0.5555555555555556,
              "#d8576b"
             ],
             [
              0.6666666666666666,
              "#ed7953"
             ],
             [
              0.7777777777777778,
              "#fb9f3a"
             ],
             [
              0.8888888888888888,
              "#fdca26"
             ],
             [
              1,
              "#f0f921"
             ]
            ],
            "type": "histogram2d"
           }
          ],
          "histogram2dcontour": [
           {
            "colorbar": {
             "outlinewidth": 0,
             "ticks": ""
            },
            "colorscale": [
             [
              0,
              "#0d0887"
             ],
             [
              0.1111111111111111,
              "#46039f"
             ],
             [
              0.2222222222222222,
              "#7201a8"
             ],
             [
              0.3333333333333333,
              "#9c179e"
             ],
             [
              0.4444444444444444,
              "#bd3786"
             ],
             [
              0.5555555555555556,
              "#d8576b"
             ],
             [
              0.6666666666666666,
              "#ed7953"
             ],
             [
              0.7777777777777778,
              "#fb9f3a"
             ],
             [
              0.8888888888888888,
              "#fdca26"
             ],
             [
              1,
              "#f0f921"
             ]
            ],
            "type": "histogram2dcontour"
           }
          ],
          "mesh3d": [
           {
            "colorbar": {
             "outlinewidth": 0,
             "ticks": ""
            },
            "type": "mesh3d"
           }
          ],
          "parcoords": [
           {
            "line": {
             "colorbar": {
              "outlinewidth": 0,
              "ticks": ""
             }
            },
            "type": "parcoords"
           }
          ],
          "pie": [
           {
            "automargin": true,
            "type": "pie"
           }
          ],
          "scatter": [
           {
            "marker": {
             "colorbar": {
              "outlinewidth": 0,
              "ticks": ""
             }
            },
            "type": "scatter"
           }
          ],
          "scatter3d": [
           {
            "line": {
             "colorbar": {
              "outlinewidth": 0,
              "ticks": ""
             }
            },
            "marker": {
             "colorbar": {
              "outlinewidth": 0,
              "ticks": ""
             }
            },
            "type": "scatter3d"
           }
          ],
          "scattercarpet": [
           {
            "marker": {
             "colorbar": {
              "outlinewidth": 0,
              "ticks": ""
             }
            },
            "type": "scattercarpet"
           }
          ],
          "scattergeo": [
           {
            "marker": {
             "colorbar": {
              "outlinewidth": 0,
              "ticks": ""
             }
            },
            "type": "scattergeo"
           }
          ],
          "scattergl": [
           {
            "marker": {
             "colorbar": {
              "outlinewidth": 0,
              "ticks": ""
             }
            },
            "type": "scattergl"
           }
          ],
          "scattermapbox": [
           {
            "marker": {
             "colorbar": {
              "outlinewidth": 0,
              "ticks": ""
             }
            },
            "type": "scattermapbox"
           }
          ],
          "scatterpolar": [
           {
            "marker": {
             "colorbar": {
              "outlinewidth": 0,
              "ticks": ""
             }
            },
            "type": "scatterpolar"
           }
          ],
          "scatterpolargl": [
           {
            "marker": {
             "colorbar": {
              "outlinewidth": 0,
              "ticks": ""
             }
            },
            "type": "scatterpolargl"
           }
          ],
          "scatterternary": [
           {
            "marker": {
             "colorbar": {
              "outlinewidth": 0,
              "ticks": ""
             }
            },
            "type": "scatterternary"
           }
          ],
          "surface": [
           {
            "colorbar": {
             "outlinewidth": 0,
             "ticks": ""
            },
            "colorscale": [
             [
              0,
              "#0d0887"
             ],
             [
              0.1111111111111111,
              "#46039f"
             ],
             [
              0.2222222222222222,
              "#7201a8"
             ],
             [
              0.3333333333333333,
              "#9c179e"
             ],
             [
              0.4444444444444444,
              "#bd3786"
             ],
             [
              0.5555555555555556,
              "#d8576b"
             ],
             [
              0.6666666666666666,
              "#ed7953"
             ],
             [
              0.7777777777777778,
              "#fb9f3a"
             ],
             [
              0.8888888888888888,
              "#fdca26"
             ],
             [
              1,
              "#f0f921"
             ]
            ],
            "type": "surface"
           }
          ],
          "table": [
           {
            "cells": {
             "fill": {
              "color": "#EBF0F8"
             },
             "line": {
              "color": "white"
             }
            },
            "header": {
             "fill": {
              "color": "#C8D4E3"
             },
             "line": {
              "color": "white"
             }
            },
            "type": "table"
           }
          ]
         },
         "layout": {
          "annotationdefaults": {
           "arrowcolor": "#2a3f5f",
           "arrowhead": 0,
           "arrowwidth": 1
          },
          "autotypenumbers": "strict",
          "coloraxis": {
           "colorbar": {
            "outlinewidth": 0,
            "ticks": ""
           }
          },
          "colorscale": {
           "diverging": [
            [
             0,
             "#8e0152"
            ],
            [
             0.1,
             "#c51b7d"
            ],
            [
             0.2,
             "#de77ae"
            ],
            [
             0.3,
             "#f1b6da"
            ],
            [
             0.4,
             "#fde0ef"
            ],
            [
             0.5,
             "#f7f7f7"
            ],
            [
             0.6,
             "#e6f5d0"
            ],
            [
             0.7,
             "#b8e186"
            ],
            [
             0.8,
             "#7fbc41"
            ],
            [
             0.9,
             "#4d9221"
            ],
            [
             1,
             "#276419"
            ]
           ],
           "sequential": [
            [
             0,
             "#0d0887"
            ],
            [
             0.1111111111111111,
             "#46039f"
            ],
            [
             0.2222222222222222,
             "#7201a8"
            ],
            [
             0.3333333333333333,
             "#9c179e"
            ],
            [
             0.4444444444444444,
             "#bd3786"
            ],
            [
             0.5555555555555556,
             "#d8576b"
            ],
            [
             0.6666666666666666,
             "#ed7953"
            ],
            [
             0.7777777777777778,
             "#fb9f3a"
            ],
            [
             0.8888888888888888,
             "#fdca26"
            ],
            [
             1,
             "#f0f921"
            ]
           ],
           "sequentialminus": [
            [
             0,
             "#0d0887"
            ],
            [
             0.1111111111111111,
             "#46039f"
            ],
            [
             0.2222222222222222,
             "#7201a8"
            ],
            [
             0.3333333333333333,
             "#9c179e"
            ],
            [
             0.4444444444444444,
             "#bd3786"
            ],
            [
             0.5555555555555556,
             "#d8576b"
            ],
            [
             0.6666666666666666,
             "#ed7953"
            ],
            [
             0.7777777777777778,
             "#fb9f3a"
            ],
            [
             0.8888888888888888,
             "#fdca26"
            ],
            [
             1,
             "#f0f921"
            ]
           ]
          },
          "colorway": [
           "#636efa",
           "#EF553B",
           "#00cc96",
           "#ab63fa",
           "#FFA15A",
           "#19d3f3",
           "#FF6692",
           "#B6E880",
           "#FF97FF",
           "#FECB52"
          ],
          "font": {
           "color": "#2a3f5f"
          },
          "geo": {
           "bgcolor": "white",
           "lakecolor": "white",
           "landcolor": "#E5ECF6",
           "showlakes": true,
           "showland": true,
           "subunitcolor": "white"
          },
          "hoverlabel": {
           "align": "left"
          },
          "hovermode": "closest",
          "mapbox": {
           "style": "light"
          },
          "paper_bgcolor": "white",
          "plot_bgcolor": "#E5ECF6",
          "polar": {
           "angularaxis": {
            "gridcolor": "white",
            "linecolor": "white",
            "ticks": ""
           },
           "bgcolor": "#E5ECF6",
           "radialaxis": {
            "gridcolor": "white",
            "linecolor": "white",
            "ticks": ""
           }
          },
          "scene": {
           "xaxis": {
            "backgroundcolor": "#E5ECF6",
            "gridcolor": "white",
            "gridwidth": 2,
            "linecolor": "white",
            "showbackground": true,
            "ticks": "",
            "zerolinecolor": "white"
           },
           "yaxis": {
            "backgroundcolor": "#E5ECF6",
            "gridcolor": "white",
            "gridwidth": 2,
            "linecolor": "white",
            "showbackground": true,
            "ticks": "",
            "zerolinecolor": "white"
           },
           "zaxis": {
            "backgroundcolor": "#E5ECF6",
            "gridcolor": "white",
            "gridwidth": 2,
            "linecolor": "white",
            "showbackground": true,
            "ticks": "",
            "zerolinecolor": "white"
           }
          },
          "shapedefaults": {
           "line": {
            "color": "#2a3f5f"
           }
          },
          "ternary": {
           "aaxis": {
            "gridcolor": "white",
            "linecolor": "white",
            "ticks": ""
           },
           "baxis": {
            "gridcolor": "white",
            "linecolor": "white",
            "ticks": ""
           },
           "bgcolor": "#E5ECF6",
           "caxis": {
            "gridcolor": "white",
            "linecolor": "white",
            "ticks": ""
           }
          },
          "title": {
           "x": 0.05
          },
          "xaxis": {
           "automargin": true,
           "gridcolor": "white",
           "linecolor": "white",
           "ticks": "",
           "title": {
            "standoff": 15
           },
           "zerolinecolor": "white",
           "zerolinewidth": 2
          },
          "yaxis": {
           "automargin": true,
           "gridcolor": "white",
           "linecolor": "white",
           "ticks": "",
           "title": {
            "standoff": 15
           },
           "zerolinecolor": "white",
           "zerolinewidth": 2
          }
         }
        },
        "xaxis": {
         "anchor": "y",
         "domain": [
          0,
          1
         ],
         "matches": "x2",
         "showticklabels": false
        },
        "xaxis2": {
         "anchor": "y2",
         "domain": [
          0,
          1
         ]
        },
        "yaxis": {
         "anchor": "x",
         "domain": [
          0.6666666666666666,
          1
         ],
         "showticklabels": false,
         "visible": false
        },
        "yaxis2": {
         "anchor": "x2",
         "domain": [
          0,
          0.6666666666666666
         ],
         "showticklabels": false,
         "visible": false
        }
       }
      }
     },
     "metadata": {}
    }
   ],
   "source": [
    "fig = make_subplots(rows=3, cols=1, specs = [[{}], [{\"rowspan\": 2}], [None]], shared_xaxes=True, vertical_spacing=0.00)\n",
    "fig.add_trace(go.Scatter(x=animals, y=y1, mode='lines+markers', line_shape='spline'), row=1, col=1)\n",
    "fig.add_trace(go.Bar(x=animals, y=y2, hoverinfo='all'), row=2,col=1)\n",
    "fig.add_trace(go.Bar(x=animals, y=y3), row=2,col=1)\n",
    "fig.update_layout(barmode='stack', plot_bgcolor='white', yaxis_visible=False, yaxis_showticklabels=False, yaxis2_visible=False, yaxis2_showticklabels=False)\n",
    "fig.show()"
   ]
  },
  {
   "cell_type": "code",
   "execution_count": 23,
   "metadata": {},
   "outputs": [],
   "source": [
    "corpus = [\n",
    "...     'This is the first document.',\n",
    "...     'This document is the second document.',\n",
    "...     'And this is the third one.',\n",
    "...     'Is this the first document?',\n",
    "... ]"
   ]
  },
  {
   "cell_type": "code",
   "execution_count": 27,
   "metadata": {},
   "outputs": [
    {
     "output_type": "execute_result",
     "data": {
      "text/plain": [
       "array([[0, 1, 1, 1, 0, 0, 1, 0, 1],\n",
       "       [0, 2, 0, 1, 0, 1, 1, 0, 1],\n",
       "       [1, 0, 0, 1, 1, 0, 1, 1, 1],\n",
       "       [0, 1, 1, 1, 0, 0, 1, 0, 1]], dtype=int64)"
      ]
     },
     "metadata": {},
     "execution_count": 27
    }
   ],
   "source": [
    "vec = CountVectorizer(ngram_range=(1, 1)).fit_transform(corpus)\n",
    "vec.toarray()\n",
    "\n"
   ]
  },
  {
   "cell_type": "code",
   "execution_count": null,
   "metadata": {},
   "outputs": [],
   "source": [
    "pos_words_freq = [(word, sum_words[0, idx]) for word,\n",
    "                idx in vec.vocabulary_.items() if word in lexi_dict['Positive']]\n",
    "neg_words_freq = [(word, sum_words[0, idx]) for word,\n",
    "                    idx in vec.vocabulary_.items() if word in lexi_dict['Positive']]"
   ]
  },
  {
   "cell_type": "code",
   "execution_count": 5,
   "metadata": {},
   "outputs": [
    {
     "output_type": "stream",
     "name": "stdout",
     "text": [
      "No, List1 doesn't have any elements of the List2.\n"
     ]
    }
   ],
   "source": [
    "# Program to check the list contains elements of another list\n",
    "\n",
    "# List1\n",
    "List1 = ['python' ,  'javascript', 'csharp', 'go', 'c', 'c++']\n",
    " \n",
    "# List2\n",
    "List2 = ['swift' , 'php', 'python']\n",
    "list3 = []\n",
    "\n",
    "check =  any(item in List1 for item in list3)\n",
    " \n",
    "if check is True:\n",
    "    print(\"The list {} contains some elements of the list {}\".format(List1, list3))    \n",
    "else :\n",
    "    print(\"No, List1 doesn't have any elements of the List2.\")"
   ]
  },
  {
   "cell_type": "code",
   "execution_count": 11,
   "metadata": {},
   "outputs": [
    {
     "output_type": "stream",
     "name": "stdout",
     "text": [
      "[]\n['python']\n['python', 'javascript']\n['python', 'javascript', 'csharp']\n['javascript', 'csharp', 'go']\n['csharp', 'go', 'c']\n"
     ]
    }
   ],
   "source": [
    "for k in range(0, len(List1)):\n",
    "    print(List1[max(k-3,0):k])"
   ]
  },
  {
   "cell_type": "code",
   "execution_count": 31,
   "metadata": {},
   "outputs": [
    {
     "output_type": "stream",
     "name": "stdout",
     "text": [
      "2\n1\n3\n"
     ]
    }
   ],
   "source": [
    "a = pd.Series([2, 1, 3, 3], name='A').unique()\n",
    "for i in a:\n",
    "    print(i)"
   ]
  }
 ],
 "metadata": {
  "kernelspec": {
   "name": "python388jvsc74a57bd08473b8f81d8d440d7362828795264e3e4c1b17a662a6f4bd9d4a00707a1c62d8",
   "display_name": "Python 3.8.8 64-bit (conda)"
  },
  "language_info": {
   "codemirror_mode": {
    "name": "ipython",
    "version": 3
   },
   "file_extension": ".py",
   "mimetype": "text/x-python",
   "name": "python",
   "nbconvert_exporter": "python",
   "pygments_lexer": "ipython3",
   "version": "3.8.8-final"
  }
 },
 "nbformat": 4,
 "nbformat_minor": 5
}